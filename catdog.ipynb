{
  "nbformat": 4,
  "nbformat_minor": 0,
  "metadata": {
    "colab": {
      "name": "catdog.ipynb",
      "provenance": [],
      "collapsed_sections": [],
      "mount_file_id": "1UnC6cuMLc9WK3DQmdK-SnW8cHwZ3m_eW",
      "authorship_tag": "ABX9TyNzGhervmmxD+/EuCpY/y22",
      "include_colab_link": true
    },
    "kernelspec": {
      "name": "python3",
      "display_name": "Python 3"
    },
    "language_info": {
      "name": "python"
    }
  },
  "cells": [
    {
      "cell_type": "markdown",
      "metadata": {
        "id": "view-in-github",
        "colab_type": "text"
      },
      "source": [
        "<a href=\"https://colab.research.google.com/github/k2h2j3/My-First-AI/blob/master/catdog.ipynb\" target=\"_parent\"><img src=\"https://colab.research.google.com/assets/colab-badge.svg\" alt=\"Open In Colab\"/></a>"
      ]
    },
    {
      "cell_type": "code",
      "execution_count": null,
      "metadata": {
        "id": "jISPJaRjtkGb"
      },
      "outputs": [],
      "source": [
        ""
      ]
    },
    {
      "cell_type": "markdown",
      "source": [
        "#### 데이터구성(개,고양이)\n",
        "- 총 3000개(train 2000, valisation 1000)으로 구성된 데이터셋\n",
        "\n",
        "-각각의 데이터는 절반은 dog, 절반은 cat\n",
        "-\n"
      ],
      "metadata": {
        "id": "-KMO8RUFtrC0"
      }
    },
    {
      "cell_type": "code",
      "source": [
        "import os"
      ],
      "metadata": {
        "id": "bs9hOF11uVwE"
      },
      "execution_count": 57,
      "outputs": []
    },
    {
      "cell_type": "code",
      "source": [
        "train_dir = 'drive/MyDrive/Colab Notebooks/dogs_vs_cats_small/train'\n",
        "test_dir = 'drive/MyDrive/Colab Notebooks/dogs_vs_cats_small/test'\n",
        "validation_dir = 'drive/MyDrive/Colab Notebooks/dogs_vs_cats_small/validation'\n",
        "\n",
        "train_dogs_dir = 'drive/MyDrive/Colab Notebooks/dogs_vs_cats_small/train/dogs'\n",
        "train_cats_dir = 'drive/MyDrive/Colab Notebooks/dogs_vs_cats_small/train/cats'\n",
        "\n",
        "test_dogs_dir = 'drive/MyDrive/Colab Notebooks/dogs_vs_cats_small/test/dogs'\n",
        "test_cats_dir = 'drive/MyDrive/Colab Notebooks/dogs_vs_cats_small/test/cats'\n",
        "\n",
        "validation_dogs_dir = 'drive/MyDrive/Colab Notebooks/dogs_vs_cats_small/validation/dogs'\n",
        "validation_cats_dir = 'drive/MyDrive/Colab Notebooks/dogs_vs_cats_small/validation/cats'\n"
      ],
      "metadata": {
        "id": "KkHXzWdE1K26"
      },
      "execution_count": 58,
      "outputs": []
    },
    {
      "cell_type": "code",
      "source": [
        "#listdir() 해당폴더에 있는 파일을 가져온다\n",
        "print(\"훈련 개 데이터 수 : {}\".format(len(os.listdir(train_dogs_dir))))\n",
        "print(\"훈련 고양이 데이터 수 : {}\".format(len(os.listdir(train_cats_dir))))\n",
        "\n",
        "print(\"테스트 개 데이터 수 : {}\".format(len(os.listdir(test_dogs_dir))))\n",
        "print(\"테스트 고양이 데이터 수 : {}\".format(len(os.listdir(test_cats_dir))))\n",
        "\n",
        "print(\"검증 개 데이터 수 : {}\".format(len(os.listdir(validation_dogs_dir))))\n",
        "print(\"검증 고양이 데이터 수 : {}\".format(len(os.listdir(validation_cats_dir))))"
      ],
      "metadata": {
        "colab": {
          "base_uri": "https://localhost:8080/"
        },
        "id": "tqtdbbDk-bQ5",
        "outputId": "cba5086a-edd9-4d53-9fdd-53948b3c0174"
      },
      "execution_count": 59,
      "outputs": [
        {
          "output_type": "stream",
          "name": "stdout",
          "text": [
            "훈련 개 데이터 수 : 1000\n",
            "훈련 고양이 데이터 수 : 1000\n",
            "테스트 개 데이터 수 : 11\n",
            "테스트 고양이 데이터 수 : 11\n",
            "검증 개 데이터 수 : 500\n",
            "검증 고양이 데이터 수 : 500\n"
          ]
        }
      ]
    },
    {
      "cell_type": "markdown",
      "source": [
        "#### 이미지 전처리\n",
        "-이미지를 같은 크기로 만들어 주어야 한다\n",
        "-0~255 범위의 픽셀값을 0~1 사이의 범위로 변환\n",
        "-라벨링(데이터를 수치화)\n",
        "-imageDataGenerator() 함수를 사용\n"
      ],
      "metadata": {
        "id": "n4MMjtAnCZxe"
      }
    },
    {
      "cell_type": "code",
      "source": [
        "from tensorflow import keras\n",
        "from tensorflow.keras.preprocessing.image import ImageDataGenerator"
      ],
      "metadata": {
        "id": "HuGalJofDXIW"
      },
      "execution_count": 60,
      "outputs": []
    },
    {
      "cell_type": "code",
      "source": [
        "train_gen = ImageDataGenerator( rescale = 1./255)\n",
        "val_gen = ImageDataGenerator( rescale = 1./255)\n",
        "test_gen = ImageDataGenerator( rescale = 1./255)"
      ],
      "metadata": {
        "id": "bpSwOTkEEP8-"
      },
      "execution_count": 61,
      "outputs": []
    },
    {
      "cell_type": "code",
      "source": [
        "# flow_from_directory: 폴더에서 이미지 가져오기\n",
        "# 폴더명, 이미지 크기, 한번에 변환 할 이미지 수, 라벨링 모드\n",
        "# 이진분류 = binary, 다중 분류 = categorical \n",
        "# 라벨 번호는 0부터 시작(cat은 0, dog는 1)\n",
        "train_generator = train_gen.flow_from_directory(train_dir,\n",
        "                              target_size =(200,200),\n",
        "                              batch_size=32,\n",
        "                              class_mode = 'binary')\n",
        "val_generator = val_gen.flow_from_directory( validation_dir,\n",
        "                            target_size = (200,200),\n",
        "                            batch_size=32,\n",
        "                            class_mode =  'binary')\n",
        "test_generator = test_gen.flow_from_directory( test_dir,\n",
        "                            target_size = (200,200),\n",
        "                            batch_size=32,\n",
        "                            class_mode =  'binary')"
      ],
      "metadata": {
        "colab": {
          "base_uri": "https://localhost:8080/"
        },
        "id": "uuCtuOqfFGzO",
        "outputId": "87dab525-372a-4b25-8f33-e1a3cec9152f"
      },
      "execution_count": 62,
      "outputs": [
        {
          "output_type": "stream",
          "name": "stdout",
          "text": [
            "Found 2000 images belonging to 2 classes.\n",
            "Found 1000 images belonging to 2 classes.\n",
            "Found 22 images belonging to 2 classes.\n"
          ]
        }
      ]
    },
    {
      "cell_type": "code",
      "source": [
        "# 라벨링 결과\n",
        "\n",
        "print(train_generator.class_indices)\n",
        "print(test_generator.class_indices)\n",
        "print(val_generator.class_indices)\n"
      ],
      "metadata": {
        "colab": {
          "base_uri": "https://localhost:8080/"
        },
        "id": "CMGG8QhfIKlN",
        "outputId": "ac743a9d-ed50-456d-ae50-c0b81a10ebe6"
      },
      "execution_count": 63,
      "outputs": [
        {
          "output_type": "stream",
          "name": "stdout",
          "text": [
            "{'cats': 0, 'dogs': 1}\n",
            "{'cats': 0, 'dogs': 1}\n",
            "{'cats': 0, 'dogs': 1}\n"
          ]
        }
      ]
    },
    {
      "cell_type": "markdown",
      "source": [
        "초기화를 위한 seed 설정"
      ],
      "metadata": {
        "id": "3MQ0a_PCI0PE"
      }
    },
    {
      "cell_type": "code",
      "source": [
        "import numpy as np\n",
        "import tensorflow as tf\n",
        "\n",
        "seed = 0\n",
        "np.random.seed(seed)\n",
        "tf.random.set_seed(seed)"
      ],
      "metadata": {
        "id": "w0zDbYyXI2qU"
      },
      "execution_count": 64,
      "outputs": []
    },
    {
      "cell_type": "code",
      "source": [
        "from tensorflow.keras.models import Sequential\n",
        "from tensorflow.keras.layers import Dense, Dropout, InputLayer, Flatten"
      ],
      "metadata": {
        "id": "qCP-9PDkJEIE"
      },
      "execution_count": 65,
      "outputs": []
    },
    {
      "cell_type": "markdown",
      "source": [
        "### mlp로 구현해보기"
      ],
      "metadata": {
        "id": "Lac0-897WPyJ"
      }
    },
    {
      "cell_type": "code",
      "source": [
        "# 1. 신경망 구조 설계\n",
        "model = Sequential() #뼈대\n",
        "\n",
        "# 입력층\n",
        "model.add(InputLayer(input_shape=(150,150,3))) #Dense(input_dim)\n",
        "model.add(Flatten()) #이미지를 1차원으로 핀다\n",
        "model.add(Dense(units=64, activation='relu'))\n",
        "# 은닉층\n",
        "model.add(Dense(units=64, activation='relu'))\n",
        "# 출력층\n",
        "model.add(Dense(units=1, activation='sigmoid'))"
      ],
      "metadata": {
        "id": "EJMfSEesJTzU"
      },
      "execution_count": null,
      "outputs": []
    },
    {
      "cell_type": "code",
      "source": [
        "model.summary() #모델 요약 "
      ],
      "metadata": {
        "colab": {
          "base_uri": "https://localhost:8080/"
        },
        "id": "4hr_IZmzKnrV",
        "outputId": "eafa9d21-9c16-4072-8e7b-312c0afa18ad"
      },
      "execution_count": null,
      "outputs": [
        {
          "output_type": "stream",
          "name": "stdout",
          "text": [
            "Model: \"sequential\"\n",
            "_________________________________________________________________\n",
            " Layer (type)                Output Shape              Param #   \n",
            "=================================================================\n",
            " flatten (Flatten)           (None, 67500)             0         \n",
            "                                                                 \n",
            " dense (Dense)               (None, 64)                4320064   \n",
            "                                                                 \n",
            " dense_1 (Dense)             (None, 64)                4160      \n",
            "                                                                 \n",
            " dense_2 (Dense)             (None, 1)                 65        \n",
            "                                                                 \n",
            "=================================================================\n",
            "Total params: 4,324,289\n",
            "Trainable params: 4,324,289\n",
            "Non-trainable params: 0\n",
            "_________________________________________________________________\n"
          ]
        }
      ]
    },
    {
      "cell_type": "code",
      "source": [
        "# 2. 모델 학습/평가 방법 설정\n",
        "model.compile(\n",
        "    loss='binary_crossentropy',\n",
        "    optimizer= 'adam',\n",
        "    metrics = ['accuracy']    \n",
        ")"
      ],
      "metadata": {
        "id": "lJ-RRPEkK2Lz"
      },
      "execution_count": null,
      "outputs": []
    },
    {
      "cell_type": "code",
      "source": [
        "# 3. 학습\n",
        "history = model.fit_generator(generator=train_generator,\n",
        "                    steps_per_epoch = 50,# 한번 epoch에 저장한 데이터수\n",
        "                    epochs = 10, #우리가 가지고 있는 전체데이터를 학습시켰을때\n",
        "                    validation_data = val_generator, #검증 데이터로 활용\n",
        "                    validation_steps = 25)\n"
      ],
      "metadata": {
        "colab": {
          "base_uri": "https://localhost:8080/",
          "height": 434
        },
        "id": "WIg6czlDLLnz",
        "outputId": "66e2ed81-5240-42b2-f756-da388bef443e"
      },
      "execution_count": null,
      "outputs": [
        {
          "output_type": "stream",
          "name": "stderr",
          "text": [
            "/usr/local/lib/python3.7/dist-packages/ipykernel_launcher.py:6: UserWarning: `Model.fit_generator` is deprecated and will be removed in a future version. Please use `Model.fit`, which supports generators.\n",
            "  \n"
          ]
        },
        {
          "output_type": "stream",
          "name": "stdout",
          "text": [
            "Epoch 1/10\n"
          ]
        },
        {
          "output_type": "error",
          "ename": "KeyboardInterrupt",
          "evalue": "ignored",
          "traceback": [
            "\u001b[0;31m---------------------------------------------------------------------------\u001b[0m",
            "\u001b[0;31mKeyboardInterrupt\u001b[0m                         Traceback (most recent call last)",
            "\u001b[0;32m<ipython-input-15-649bcecd0601>\u001b[0m in \u001b[0;36m<module>\u001b[0;34m()\u001b[0m\n\u001b[1;32m      4\u001b[0m                     \u001b[0mepochs\u001b[0m \u001b[0;34m=\u001b[0m \u001b[0;36m10\u001b[0m\u001b[0;34m,\u001b[0m \u001b[0;31m#우리가 가지고 있는 전체데이터를 학습시켰을때\u001b[0m\u001b[0;34m\u001b[0m\u001b[0;34m\u001b[0m\u001b[0m\n\u001b[1;32m      5\u001b[0m                     \u001b[0mvalidation_data\u001b[0m \u001b[0;34m=\u001b[0m \u001b[0mval_generator\u001b[0m\u001b[0;34m,\u001b[0m \u001b[0;31m#검증 데이터로 활용\u001b[0m\u001b[0;34m\u001b[0m\u001b[0;34m\u001b[0m\u001b[0m\n\u001b[0;32m----> 6\u001b[0;31m                     validation_steps = 25)\n\u001b[0m",
            "\u001b[0;32m/usr/local/lib/python3.7/dist-packages/keras/engine/training.py\u001b[0m in \u001b[0;36mfit_generator\u001b[0;34m(self, generator, steps_per_epoch, epochs, verbose, callbacks, validation_data, validation_steps, validation_freq, class_weight, max_queue_size, workers, use_multiprocessing, shuffle, initial_epoch)\u001b[0m\n\u001b[1;32m   2221\u001b[0m         \u001b[0muse_multiprocessing\u001b[0m\u001b[0;34m=\u001b[0m\u001b[0muse_multiprocessing\u001b[0m\u001b[0;34m,\u001b[0m\u001b[0;34m\u001b[0m\u001b[0;34m\u001b[0m\u001b[0m\n\u001b[1;32m   2222\u001b[0m         \u001b[0mshuffle\u001b[0m\u001b[0;34m=\u001b[0m\u001b[0mshuffle\u001b[0m\u001b[0;34m,\u001b[0m\u001b[0;34m\u001b[0m\u001b[0;34m\u001b[0m\u001b[0m\n\u001b[0;32m-> 2223\u001b[0;31m         initial_epoch=initial_epoch)\n\u001b[0m\u001b[1;32m   2224\u001b[0m \u001b[0;34m\u001b[0m\u001b[0m\n\u001b[1;32m   2225\u001b[0m   \u001b[0;34m@\u001b[0m\u001b[0mdoc_controls\u001b[0m\u001b[0;34m.\u001b[0m\u001b[0mdo_not_generate_docs\u001b[0m\u001b[0;34m\u001b[0m\u001b[0;34m\u001b[0m\u001b[0m\n",
            "\u001b[0;32m/usr/local/lib/python3.7/dist-packages/keras/utils/traceback_utils.py\u001b[0m in \u001b[0;36merror_handler\u001b[0;34m(*args, **kwargs)\u001b[0m\n\u001b[1;32m     62\u001b[0m     \u001b[0mfiltered_tb\u001b[0m \u001b[0;34m=\u001b[0m \u001b[0;32mNone\u001b[0m\u001b[0;34m\u001b[0m\u001b[0;34m\u001b[0m\u001b[0m\n\u001b[1;32m     63\u001b[0m     \u001b[0;32mtry\u001b[0m\u001b[0;34m:\u001b[0m\u001b[0;34m\u001b[0m\u001b[0;34m\u001b[0m\u001b[0m\n\u001b[0;32m---> 64\u001b[0;31m       \u001b[0;32mreturn\u001b[0m \u001b[0mfn\u001b[0m\u001b[0;34m(\u001b[0m\u001b[0;34m*\u001b[0m\u001b[0margs\u001b[0m\u001b[0;34m,\u001b[0m \u001b[0;34m**\u001b[0m\u001b[0mkwargs\u001b[0m\u001b[0;34m)\u001b[0m\u001b[0;34m\u001b[0m\u001b[0;34m\u001b[0m\u001b[0m\n\u001b[0m\u001b[1;32m     65\u001b[0m     \u001b[0;32mexcept\u001b[0m \u001b[0mException\u001b[0m \u001b[0;32mas\u001b[0m \u001b[0me\u001b[0m\u001b[0;34m:\u001b[0m  \u001b[0;31m# pylint: disable=broad-except\u001b[0m\u001b[0;34m\u001b[0m\u001b[0;34m\u001b[0m\u001b[0m\n\u001b[1;32m     66\u001b[0m       \u001b[0mfiltered_tb\u001b[0m \u001b[0;34m=\u001b[0m \u001b[0m_process_traceback_frames\u001b[0m\u001b[0;34m(\u001b[0m\u001b[0me\u001b[0m\u001b[0;34m.\u001b[0m\u001b[0m__traceback__\u001b[0m\u001b[0;34m)\u001b[0m\u001b[0;34m\u001b[0m\u001b[0;34m\u001b[0m\u001b[0m\n",
            "\u001b[0;32m/usr/local/lib/python3.7/dist-packages/keras/engine/training.py\u001b[0m in \u001b[0;36mfit\u001b[0;34m(self, x, y, batch_size, epochs, verbose, callbacks, validation_split, validation_data, shuffle, class_weight, sample_weight, initial_epoch, steps_per_epoch, validation_steps, validation_batch_size, validation_freq, max_queue_size, workers, use_multiprocessing)\u001b[0m\n\u001b[1;32m   1382\u001b[0m                 _r=1):\n\u001b[1;32m   1383\u001b[0m               \u001b[0mcallbacks\u001b[0m\u001b[0;34m.\u001b[0m\u001b[0mon_train_batch_begin\u001b[0m\u001b[0;34m(\u001b[0m\u001b[0mstep\u001b[0m\u001b[0;34m)\u001b[0m\u001b[0;34m\u001b[0m\u001b[0;34m\u001b[0m\u001b[0m\n\u001b[0;32m-> 1384\u001b[0;31m               \u001b[0mtmp_logs\u001b[0m \u001b[0;34m=\u001b[0m \u001b[0mself\u001b[0m\u001b[0;34m.\u001b[0m\u001b[0mtrain_function\u001b[0m\u001b[0;34m(\u001b[0m\u001b[0miterator\u001b[0m\u001b[0;34m)\u001b[0m\u001b[0;34m\u001b[0m\u001b[0;34m\u001b[0m\u001b[0m\n\u001b[0m\u001b[1;32m   1385\u001b[0m               \u001b[0;32mif\u001b[0m \u001b[0mdata_handler\u001b[0m\u001b[0;34m.\u001b[0m\u001b[0mshould_sync\u001b[0m\u001b[0;34m:\u001b[0m\u001b[0;34m\u001b[0m\u001b[0;34m\u001b[0m\u001b[0m\n\u001b[1;32m   1386\u001b[0m                 \u001b[0mcontext\u001b[0m\u001b[0;34m.\u001b[0m\u001b[0masync_wait\u001b[0m\u001b[0;34m(\u001b[0m\u001b[0;34m)\u001b[0m\u001b[0;34m\u001b[0m\u001b[0;34m\u001b[0m\u001b[0m\n",
            "\u001b[0;32m/usr/local/lib/python3.7/dist-packages/tensorflow/python/util/traceback_utils.py\u001b[0m in \u001b[0;36merror_handler\u001b[0;34m(*args, **kwargs)\u001b[0m\n\u001b[1;32m    148\u001b[0m     \u001b[0mfiltered_tb\u001b[0m \u001b[0;34m=\u001b[0m \u001b[0;32mNone\u001b[0m\u001b[0;34m\u001b[0m\u001b[0;34m\u001b[0m\u001b[0m\n\u001b[1;32m    149\u001b[0m     \u001b[0;32mtry\u001b[0m\u001b[0;34m:\u001b[0m\u001b[0;34m\u001b[0m\u001b[0;34m\u001b[0m\u001b[0m\n\u001b[0;32m--> 150\u001b[0;31m       \u001b[0;32mreturn\u001b[0m \u001b[0mfn\u001b[0m\u001b[0;34m(\u001b[0m\u001b[0;34m*\u001b[0m\u001b[0margs\u001b[0m\u001b[0;34m,\u001b[0m \u001b[0;34m**\u001b[0m\u001b[0mkwargs\u001b[0m\u001b[0;34m)\u001b[0m\u001b[0;34m\u001b[0m\u001b[0;34m\u001b[0m\u001b[0m\n\u001b[0m\u001b[1;32m    151\u001b[0m     \u001b[0;32mexcept\u001b[0m \u001b[0mException\u001b[0m \u001b[0;32mas\u001b[0m \u001b[0me\u001b[0m\u001b[0;34m:\u001b[0m\u001b[0;34m\u001b[0m\u001b[0;34m\u001b[0m\u001b[0m\n\u001b[1;32m    152\u001b[0m       \u001b[0mfiltered_tb\u001b[0m \u001b[0;34m=\u001b[0m \u001b[0m_process_traceback_frames\u001b[0m\u001b[0;34m(\u001b[0m\u001b[0me\u001b[0m\u001b[0;34m.\u001b[0m\u001b[0m__traceback__\u001b[0m\u001b[0;34m)\u001b[0m\u001b[0;34m\u001b[0m\u001b[0;34m\u001b[0m\u001b[0m\n",
            "\u001b[0;32m/usr/local/lib/python3.7/dist-packages/tensorflow/python/eager/def_function.py\u001b[0m in \u001b[0;36m__call__\u001b[0;34m(self, *args, **kwds)\u001b[0m\n\u001b[1;32m    913\u001b[0m \u001b[0;34m\u001b[0m\u001b[0m\n\u001b[1;32m    914\u001b[0m       \u001b[0;32mwith\u001b[0m \u001b[0mOptionalXlaContext\u001b[0m\u001b[0;34m(\u001b[0m\u001b[0mself\u001b[0m\u001b[0;34m.\u001b[0m\u001b[0m_jit_compile\u001b[0m\u001b[0;34m)\u001b[0m\u001b[0;34m:\u001b[0m\u001b[0;34m\u001b[0m\u001b[0;34m\u001b[0m\u001b[0m\n\u001b[0;32m--> 915\u001b[0;31m         \u001b[0mresult\u001b[0m \u001b[0;34m=\u001b[0m \u001b[0mself\u001b[0m\u001b[0;34m.\u001b[0m\u001b[0m_call\u001b[0m\u001b[0;34m(\u001b[0m\u001b[0;34m*\u001b[0m\u001b[0margs\u001b[0m\u001b[0;34m,\u001b[0m \u001b[0;34m**\u001b[0m\u001b[0mkwds\u001b[0m\u001b[0;34m)\u001b[0m\u001b[0;34m\u001b[0m\u001b[0;34m\u001b[0m\u001b[0m\n\u001b[0m\u001b[1;32m    916\u001b[0m \u001b[0;34m\u001b[0m\u001b[0m\n\u001b[1;32m    917\u001b[0m       \u001b[0mnew_tracing_count\u001b[0m \u001b[0;34m=\u001b[0m \u001b[0mself\u001b[0m\u001b[0;34m.\u001b[0m\u001b[0mexperimental_get_tracing_count\u001b[0m\u001b[0;34m(\u001b[0m\u001b[0;34m)\u001b[0m\u001b[0;34m\u001b[0m\u001b[0;34m\u001b[0m\u001b[0m\n",
            "\u001b[0;32m/usr/local/lib/python3.7/dist-packages/tensorflow/python/eager/def_function.py\u001b[0m in \u001b[0;36m_call\u001b[0;34m(self, *args, **kwds)\u001b[0m\n\u001b[1;32m    978\u001b[0m         \u001b[0;31m# Lifting succeeded, so variables are initialized and we can run the\u001b[0m\u001b[0;34m\u001b[0m\u001b[0;34m\u001b[0m\u001b[0;34m\u001b[0m\u001b[0m\n\u001b[1;32m    979\u001b[0m         \u001b[0;31m# stateless function.\u001b[0m\u001b[0;34m\u001b[0m\u001b[0;34m\u001b[0m\u001b[0;34m\u001b[0m\u001b[0m\n\u001b[0;32m--> 980\u001b[0;31m         \u001b[0;32mreturn\u001b[0m \u001b[0mself\u001b[0m\u001b[0;34m.\u001b[0m\u001b[0m_stateless_fn\u001b[0m\u001b[0;34m(\u001b[0m\u001b[0;34m*\u001b[0m\u001b[0margs\u001b[0m\u001b[0;34m,\u001b[0m \u001b[0;34m**\u001b[0m\u001b[0mkwds\u001b[0m\u001b[0;34m)\u001b[0m\u001b[0;34m\u001b[0m\u001b[0;34m\u001b[0m\u001b[0m\n\u001b[0m\u001b[1;32m    981\u001b[0m     \u001b[0;32melse\u001b[0m\u001b[0;34m:\u001b[0m\u001b[0;34m\u001b[0m\u001b[0;34m\u001b[0m\u001b[0m\n\u001b[1;32m    982\u001b[0m       \u001b[0m_\u001b[0m\u001b[0;34m,\u001b[0m \u001b[0m_\u001b[0m\u001b[0;34m,\u001b[0m \u001b[0m_\u001b[0m\u001b[0;34m,\u001b[0m \u001b[0mfiltered_flat_args\u001b[0m \u001b[0;34m=\u001b[0m\u001b[0;31m \u001b[0m\u001b[0;31m\\\u001b[0m\u001b[0;34m\u001b[0m\u001b[0;34m\u001b[0m\u001b[0m\n",
            "\u001b[0;32m/usr/local/lib/python3.7/dist-packages/tensorflow/python/eager/function.py\u001b[0m in \u001b[0;36m__call__\u001b[0;34m(self, *args, **kwargs)\u001b[0m\n\u001b[1;32m   2955\u001b[0m        filtered_flat_args) = self._maybe_define_function(args, kwargs)\n\u001b[1;32m   2956\u001b[0m     return graph_function._call_flat(\n\u001b[0;32m-> 2957\u001b[0;31m         filtered_flat_args, captured_inputs=graph_function.captured_inputs)  # pylint: disable=protected-access\n\u001b[0m\u001b[1;32m   2958\u001b[0m \u001b[0;34m\u001b[0m\u001b[0m\n\u001b[1;32m   2959\u001b[0m   \u001b[0;34m@\u001b[0m\u001b[0mproperty\u001b[0m\u001b[0;34m\u001b[0m\u001b[0;34m\u001b[0m\u001b[0m\n",
            "\u001b[0;32m/usr/local/lib/python3.7/dist-packages/tensorflow/python/eager/function.py\u001b[0m in \u001b[0;36m_call_flat\u001b[0;34m(self, args, captured_inputs, cancellation_manager)\u001b[0m\n\u001b[1;32m   1852\u001b[0m       \u001b[0;31m# No tape is watching; skip to running the function.\u001b[0m\u001b[0;34m\u001b[0m\u001b[0;34m\u001b[0m\u001b[0;34m\u001b[0m\u001b[0m\n\u001b[1;32m   1853\u001b[0m       return self._build_call_outputs(self._inference_function.call(\n\u001b[0;32m-> 1854\u001b[0;31m           ctx, args, cancellation_manager=cancellation_manager))\n\u001b[0m\u001b[1;32m   1855\u001b[0m     forward_backward = self._select_forward_and_backward_functions(\n\u001b[1;32m   1856\u001b[0m         \u001b[0margs\u001b[0m\u001b[0;34m,\u001b[0m\u001b[0;34m\u001b[0m\u001b[0;34m\u001b[0m\u001b[0m\n",
            "\u001b[0;32m/usr/local/lib/python3.7/dist-packages/tensorflow/python/eager/function.py\u001b[0m in \u001b[0;36mcall\u001b[0;34m(self, ctx, args, cancellation_manager)\u001b[0m\n\u001b[1;32m    502\u001b[0m               \u001b[0minputs\u001b[0m\u001b[0;34m=\u001b[0m\u001b[0margs\u001b[0m\u001b[0;34m,\u001b[0m\u001b[0;34m\u001b[0m\u001b[0;34m\u001b[0m\u001b[0m\n\u001b[1;32m    503\u001b[0m               \u001b[0mattrs\u001b[0m\u001b[0;34m=\u001b[0m\u001b[0mattrs\u001b[0m\u001b[0;34m,\u001b[0m\u001b[0;34m\u001b[0m\u001b[0;34m\u001b[0m\u001b[0m\n\u001b[0;32m--> 504\u001b[0;31m               ctx=ctx)\n\u001b[0m\u001b[1;32m    505\u001b[0m         \u001b[0;32melse\u001b[0m\u001b[0;34m:\u001b[0m\u001b[0;34m\u001b[0m\u001b[0;34m\u001b[0m\u001b[0m\n\u001b[1;32m    506\u001b[0m           outputs = execute.execute_with_cancellation(\n",
            "\u001b[0;32m/usr/local/lib/python3.7/dist-packages/tensorflow/python/eager/execute.py\u001b[0m in \u001b[0;36mquick_execute\u001b[0;34m(op_name, num_outputs, inputs, attrs, ctx, name)\u001b[0m\n\u001b[1;32m     53\u001b[0m     \u001b[0mctx\u001b[0m\u001b[0;34m.\u001b[0m\u001b[0mensure_initialized\u001b[0m\u001b[0;34m(\u001b[0m\u001b[0;34m)\u001b[0m\u001b[0;34m\u001b[0m\u001b[0;34m\u001b[0m\u001b[0m\n\u001b[1;32m     54\u001b[0m     tensors = pywrap_tfe.TFE_Py_Execute(ctx._handle, device_name, op_name,\n\u001b[0;32m---> 55\u001b[0;31m                                         inputs, attrs, num_outputs)\n\u001b[0m\u001b[1;32m     56\u001b[0m   \u001b[0;32mexcept\u001b[0m \u001b[0mcore\u001b[0m\u001b[0;34m.\u001b[0m\u001b[0m_NotOkStatusException\u001b[0m \u001b[0;32mas\u001b[0m \u001b[0me\u001b[0m\u001b[0;34m:\u001b[0m\u001b[0;34m\u001b[0m\u001b[0;34m\u001b[0m\u001b[0m\n\u001b[1;32m     57\u001b[0m     \u001b[0;32mif\u001b[0m \u001b[0mname\u001b[0m \u001b[0;32mis\u001b[0m \u001b[0;32mnot\u001b[0m \u001b[0;32mNone\u001b[0m\u001b[0;34m:\u001b[0m\u001b[0;34m\u001b[0m\u001b[0;34m\u001b[0m\u001b[0m\n",
            "\u001b[0;31mKeyboardInterrupt\u001b[0m: "
          ]
        }
      ]
    },
    {
      "cell_type": "code",
      "source": [
        "import matplotlib.pyplot as plt\n",
        "acc = history.history['accuracy']\n",
        "val_acc = history.history['val_accuracy']\n",
        "\n",
        "epoch = range(1, len(acc)+1) #정확도의 개수\n",
        "\n",
        "plt.plot(epoch, acc, c='red', label = 'Train acc') # 훈련 데이터 정확도\n",
        "plt.plot(epoch, val_acc, c= 'blue', label = 'val acc') # 검증 데이터 정확도\n",
        "plt.legend() #범례\n",
        "plt.plot()\n"
      ],
      "metadata": {
        "colab": {
          "base_uri": "https://localhost:8080/",
          "height": 283
        },
        "id": "Kk7Kb8EbVCGR",
        "outputId": "43126918-61f0-48f6-8246-2df1109e04db"
      },
      "execution_count": null,
      "outputs": [
        {
          "output_type": "execute_result",
          "data": {
            "text/plain": [
              "[]"
            ]
          },
          "metadata": {},
          "execution_count": 40
        },
        {
          "output_type": "display_data",
          "data": {
            "text/plain": [
              "<Figure size 432x288 with 1 Axes>"
            ],
            "image/png": "[encoded data removed]"
          },
          "metadata": {
            "needs_background": "light"
          }
        }
      ]
    },
    {
      "cell_type": "markdown",
      "source": [
        "### CNN을 입력층으로 한 신경망 설계"
      ],
      "metadata": {
        "id": "wYxSGYLIWjf3"
      }
    },
    {
      "cell_type": "code",
      "source": [
        "from tensorflow.keras.models import Sequential\n",
        "from tensorflow.keras.layers import Dense, Dropout\n",
        "from tensorflow.keras.layers import Conv2D, MaxPooling2D, Flatten\n",
        "# Con2D : 특징찾기\n",
        "# MaxPooling2D: 불필요한 부분 삭제\n",
        "# Flatten : 데이터를 1차원으로 펴줌"
      ],
      "metadata": {
        "id": "Ug0FLz-xW5Al"
      },
      "execution_count": 66,
      "outputs": []
    },
    {
      "cell_type": "code",
      "source": [
        "from matplotlib.cbook import flatten\n",
        "c_model = Sequential()\n",
        "\n",
        "# 입력층(CNN)\n",
        "# 특징을 도드라지게 해준다\n",
        "c_model.add(Conv2D(filters = 16, # 사진에서 찾을 특성 개수\n",
        "                   kernel_size = (3,3), # 한번에 확인할 픽셀의 수\n",
        "                   input_shape = (200,200,3), # 입력 데이터의 크기\n",
        "                   padding = 'same', # 가장 자리를 0으로 채움 \n",
        "                  # same : 입력데이터의 크기와 동일하게 맞춰준다\n",
        "                   activation = 'relu'))\n",
        "#불필요한 부분 삭제\n",
        "c_model.add(MaxPooling2D(pool_size = (2,2)))\n",
        "\n",
        "c_model.add(Conv2D(filters = 32, # 사진에서 찾을 특성 개수\n",
        "                   kernel_size = (3,3), # 한번에 확인할 픽셀의 수\n",
        "                   input_shape = (200,200,3), # 입력 데이터의 크기\n",
        "                   padding = 'same', # 가장 자리를 0으로 채움(입력이미지크기=출력이미지크기)\n",
        "                  # same : 입력데이터의 크기와 동일하게 맞춰준다\n",
        "                   activation = 'relu'))\n",
        "\n",
        "c_model.add(MaxPooling2D(pool_size = (2,2)))\n",
        "\n",
        "c_model.add(Conv2D(filters = 64, # 사진에서 찾을 특성 개수\n",
        "                   kernel_size = (3,3), # 한번에 확인할 픽셀의 수\n",
        "                   input_shape = (200,200,3), # 입력 데이터의 크기\n",
        "                   padding = 'same', # 가장 자리를 0으로 채움(입력이미지크기=출력이미지크기)\n",
        "                  # same : 입력데이터의 크기와 동일하게 맞춰준다\n",
        "                   activation = 'relu'))\n",
        "\n",
        "c_model.add(MaxPooling2D(pool_size = (2,2)))\n",
        "\n",
        "c_model.add(Conv2D(filters = 64, # 사진에서 찾을 특성 개수\n",
        "                   kernel_size = (3,3), # 한번에 확인할 픽셀의 수\n",
        "                   input_shape = (200,200,3), # 입력 데이터의 크기\n",
        "                   padding = 'same', # 가장 자리를 0으로 채움(입력이미지크기=출력이미지크기)\n",
        "                  # same : 입력데이터의 크기와 동일하게 맞춰준다\n",
        "                   activation = 'relu'))\n",
        "\n",
        "c_model.add(MaxPooling2D(pool_size = (2,2)))\n",
        "\n",
        "c_model.add(Conv2D(filters = 64, # 사진에서 찾을 특성 개수\n",
        "                   kernel_size = (3,3), # 한번에 확인할 픽셀의 수\n",
        "                   input_shape = (200,200,3), # 입력 데이터의 크기\n",
        "                   padding = 'same', # 가장 자리를 0으로 채움(입력이미지크기=출력이미지크기)\n",
        "                  # same : 입력데이터의 크기와 동일하게 맞춰준다\n",
        "                   activation = 'relu'))\n",
        "\n",
        "c_model.add(MaxPooling2D(pool_size = (2,2)))\n",
        "\n",
        "# 1차원으로 데이터 축소\n",
        "c_model.add(Flatten())\n",
        "\n",
        "#은닉층\n",
        "c_model.add(Dense(units=512, activation = 'relu'))\n",
        "\n",
        "#출력층\n",
        "c_model.add(Dense(units=1, activation= 'sigmoid'))\n",
        "\n",
        "c_model.summary()"
      ],
      "metadata": {
        "colab": {
          "base_uri": "https://localhost:8080/"
        },
        "id": "LXnzK9bXXVbH",
        "outputId": "35fb2671-8a06-4ef1-8b9e-3cbdeddbdff9"
      },
      "execution_count": 71,
      "outputs": [
        {
          "output_type": "stream",
          "name": "stdout",
          "text": [
            "Model: \"sequential_13\"\n",
            "_________________________________________________________________\n",
            " Layer (type)                Output Shape              Param #   \n",
            "=================================================================\n",
            " conv2d_39 (Conv2D)          (None, 200, 200, 16)      448       \n",
            "                                                                 \n",
            " max_pooling2d_24 (MaxPoolin  (None, 100, 100, 16)     0         \n",
            " g2D)                                                            \n",
            "                                                                 \n",
            " conv2d_40 (Conv2D)          (None, 100, 100, 32)      4640      \n",
            "                                                                 \n",
            " max_pooling2d_25 (MaxPoolin  (None, 50, 50, 32)       0         \n",
            " g2D)                                                            \n",
            "                                                                 \n",
            " conv2d_41 (Conv2D)          (None, 50, 50, 64)        18496     \n",
            "                                                                 \n",
            " max_pooling2d_26 (MaxPoolin  (None, 25, 25, 64)       0         \n",
            " g2D)                                                            \n",
            "                                                                 \n",
            " conv2d_42 (Conv2D)          (None, 25, 25, 64)        36928     \n",
            "                                                                 \n",
            " max_pooling2d_27 (MaxPoolin  (None, 12, 12, 64)       0         \n",
            " g2D)                                                            \n",
            "                                                                 \n",
            " conv2d_43 (Conv2D)          (None, 12, 12, 64)        36928     \n",
            "                                                                 \n",
            " max_pooling2d_28 (MaxPoolin  (None, 6, 6, 64)         0         \n",
            " g2D)                                                            \n",
            "                                                                 \n",
            " flatten_13 (Flatten)        (None, 2304)              0         \n",
            "                                                                 \n",
            " dense_27 (Dense)            (None, 512)               1180160   \n",
            "                                                                 \n",
            " dense_28 (Dense)            (None, 1)                 513       \n",
            "                                                                 \n",
            "=================================================================\n",
            "Total params: 1,278,113\n",
            "Trainable params: 1,278,113\n",
            "Non-trainable params: 0\n",
            "_________________________________________________________________\n"
          ]
        }
      ]
    },
    {
      "cell_type": "code",
      "source": [
        "c_model.compile(loss='binary_crossentropy',\n",
        "                optimizer = 'adam',\n",
        "                metrics=['accuracy'])"
      ],
      "metadata": {
        "id": "zTwqWP03a0hu"
      },
      "execution_count": 72,
      "outputs": []
    },
    {
      "cell_type": "code",
      "source": [
        "c_histroy = c_model.fit_generator(generator=train_generator,\n",
        "            steps_per_epoch=20,\n",
        "            epochs=50,\n",
        "            validation_data = val_generator,\n",
        "            validation_steps = 3)"
      ],
      "metadata": {
        "colab": {
          "base_uri": "https://localhost:8080/"
        },
        "id": "BKJtNMwSbDkW",
        "outputId": "e4e7351b-0a2d-4714-8638-77bb30d7731a"
      },
      "execution_count": 77,
      "outputs": [
        {
          "output_type": "stream",
          "name": "stderr",
          "text": [
            "/usr/local/lib/python3.7/dist-packages/ipykernel_launcher.py:5: UserWarning: `Model.fit_generator` is deprecated and will be removed in a future version. Please use `Model.fit`, which supports generators.\n",
            "  \"\"\"\n"
          ]
        },
        {
          "output_type": "stream",
          "name": "stdout",
          "text": [
            "Epoch 1/50\n",
            "20/20 [==============================] - 29s 1s/step - loss: 0.3987 - accuracy: 0.8172 - val_loss: 0.9532 - val_accuracy: 0.6146\n",
            "Epoch 2/50\n",
            "20/20 [==============================] - 28s 1s/step - loss: 0.3021 - accuracy: 0.8782 - val_loss: 0.8416 - val_accuracy: 0.7083\n",
            "Epoch 3/50\n",
            "20/20 [==============================] - 29s 1s/step - loss: 0.3336 - accuracy: 0.8516 - val_loss: 0.6391 - val_accuracy: 0.7396\n",
            "Epoch 4/50\n",
            "20/20 [==============================] - 29s 1s/step - loss: 0.2540 - accuracy: 0.8984 - val_loss: 0.8870 - val_accuracy: 0.6354\n",
            "Epoch 5/50\n",
            "20/20 [==============================] - 28s 1s/step - loss: 0.2626 - accuracy: 0.8814 - val_loss: 0.7198 - val_accuracy: 0.6458\n",
            "Epoch 6/50\n",
            "20/20 [==============================] - 29s 1s/step - loss: 0.2654 - accuracy: 0.8844 - val_loss: 0.7300 - val_accuracy: 0.7500\n",
            "Epoch 7/50\n",
            "20/20 [==============================] - 29s 1s/step - loss: 0.2518 - accuracy: 0.8969 - val_loss: 0.6152 - val_accuracy: 0.6979\n",
            "Epoch 8/50\n",
            "20/20 [==============================] - 28s 1s/step - loss: 0.2123 - accuracy: 0.9247 - val_loss: 0.7623 - val_accuracy: 0.6979\n",
            "Epoch 9/50\n",
            "20/20 [==============================] - 29s 1s/step - loss: 0.2204 - accuracy: 0.9125 - val_loss: 0.5996 - val_accuracy: 0.7292\n",
            "Epoch 10/50\n",
            "20/20 [==============================] - 29s 1s/step - loss: 0.1639 - accuracy: 0.9391 - val_loss: 1.0110 - val_accuracy: 0.7292\n",
            "Epoch 11/50\n",
            "20/20 [==============================] - 29s 1s/step - loss: 0.1525 - accuracy: 0.9406 - val_loss: 0.8568 - val_accuracy: 0.7292\n",
            "Epoch 12/50\n",
            "20/20 [==============================] - 29s 1s/step - loss: 0.1788 - accuracy: 0.9187 - val_loss: 0.9288 - val_accuracy: 0.7500\n",
            "Epoch 13/50\n",
            "20/20 [==============================] - 29s 1s/step - loss: 0.1708 - accuracy: 0.9406 - val_loss: 1.0900 - val_accuracy: 0.7083\n",
            "Epoch 14/50\n",
            "20/20 [==============================] - 29s 1s/step - loss: 0.0964 - accuracy: 0.9672 - val_loss: 1.0915 - val_accuracy: 0.7604\n",
            "Epoch 15/50\n",
            "20/20 [==============================] - 29s 1s/step - loss: 0.1050 - accuracy: 0.9516 - val_loss: 0.7705 - val_accuracy: 0.7708\n",
            "Epoch 16/50\n",
            "20/20 [==============================] - 28s 1s/step - loss: 0.1037 - accuracy: 0.9519 - val_loss: 1.2019 - val_accuracy: 0.7396\n",
            "Epoch 17/50\n",
            "20/20 [==============================] - 28s 1s/step - loss: 0.0804 - accuracy: 0.9728 - val_loss: 1.0342 - val_accuracy: 0.7292\n",
            "Epoch 18/50\n",
            "20/20 [==============================] - 29s 1s/step - loss: 0.1013 - accuracy: 0.9578 - val_loss: 0.7248 - val_accuracy: 0.7500\n",
            "Epoch 19/50\n",
            "20/20 [==============================] - 29s 1s/step - loss: 0.1786 - accuracy: 0.9250 - val_loss: 1.2688 - val_accuracy: 0.7812\n",
            "Epoch 20/50\n",
            "20/20 [==============================] - 28s 1s/step - loss: 0.0800 - accuracy: 0.9679 - val_loss: 1.0441 - val_accuracy: 0.7292\n",
            "Epoch 21/50\n",
            "20/20 [==============================] - 28s 1s/step - loss: 0.0437 - accuracy: 0.9872 - val_loss: 1.3293 - val_accuracy: 0.6875\n",
            "Epoch 22/50\n",
            "20/20 [==============================] - 29s 1s/step - loss: 0.0453 - accuracy: 0.9844 - val_loss: 1.4384 - val_accuracy: 0.6979\n",
            "Epoch 23/50\n",
            "20/20 [==============================] - 29s 1s/step - loss: 0.0375 - accuracy: 0.9875 - val_loss: 1.9962 - val_accuracy: 0.6354\n",
            "Epoch 24/50\n",
            "20/20 [==============================] - 29s 1s/step - loss: 0.0242 - accuracy: 0.9937 - val_loss: 1.7451 - val_accuracy: 0.7188\n",
            "Epoch 25/50\n",
            "20/20 [==============================] - 28s 1s/step - loss: 0.0308 - accuracy: 0.9888 - val_loss: 1.5407 - val_accuracy: 0.7188\n",
            "Epoch 26/50\n",
            "20/20 [==============================] - 28s 1s/step - loss: 0.0502 - accuracy: 0.9856 - val_loss: 1.3734 - val_accuracy: 0.6771\n",
            "Epoch 27/50\n",
            "20/20 [==============================] - 29s 1s/step - loss: 0.0414 - accuracy: 0.9844 - val_loss: 2.4161 - val_accuracy: 0.5833\n",
            "Epoch 28/50\n",
            "20/20 [==============================] - 29s 1s/step - loss: 0.0179 - accuracy: 0.9984 - val_loss: 1.8147 - val_accuracy: 0.7188\n",
            "Epoch 29/50\n",
            "20/20 [==============================] - 28s 1s/step - loss: 0.0204 - accuracy: 0.9936 - val_loss: 1.6546 - val_accuracy: 0.7292\n",
            "Epoch 30/50\n",
            "20/20 [==============================] - 29s 1s/step - loss: 0.0212 - accuracy: 0.9936 - val_loss: 2.4465 - val_accuracy: 0.6667\n",
            "Epoch 31/50\n",
            "20/20 [==============================] - 29s 1s/step - loss: 0.0651 - accuracy: 0.9750 - val_loss: 1.5494 - val_accuracy: 0.6771\n",
            "Epoch 32/50\n",
            "20/20 [==============================] - 29s 1s/step - loss: 0.0282 - accuracy: 0.9922 - val_loss: 2.2574 - val_accuracy: 0.6875\n",
            "Epoch 33/50\n",
            "20/20 [==============================] - 29s 1s/step - loss: 0.0559 - accuracy: 0.9828 - val_loss: 1.4586 - val_accuracy: 0.7188\n",
            "Epoch 34/50\n",
            "20/20 [==============================] - 29s 1s/step - loss: 0.0245 - accuracy: 0.9969 - val_loss: 1.9536 - val_accuracy: 0.6979\n",
            "Epoch 35/50\n",
            "20/20 [==============================] - 29s 1s/step - loss: 0.0212 - accuracy: 0.9937 - val_loss: 1.0894 - val_accuracy: 0.7396\n",
            "Epoch 36/50\n",
            "20/20 [==============================] - 28s 1s/step - loss: 0.0116 - accuracy: 0.9984 - val_loss: 1.3071 - val_accuracy: 0.6562\n",
            "Epoch 37/50\n",
            "20/20 [==============================] - 29s 1s/step - loss: 0.0073 - accuracy: 0.9984 - val_loss: 1.8124 - val_accuracy: 0.6979\n",
            "Epoch 38/50\n",
            "20/20 [==============================] - 29s 1s/step - loss: 0.0037 - accuracy: 1.0000 - val_loss: 2.3463 - val_accuracy: 0.7188\n",
            "Epoch 39/50\n",
            "20/20 [==============================] - 29s 1s/step - loss: 0.0025 - accuracy: 1.0000 - val_loss: 1.7243 - val_accuracy: 0.7396\n",
            "Epoch 40/50\n",
            "20/20 [==============================] - 29s 1s/step - loss: 0.0015 - accuracy: 1.0000 - val_loss: 1.5184 - val_accuracy: 0.7812\n",
            "Epoch 41/50\n",
            "20/20 [==============================] - 29s 1s/step - loss: 8.5688e-04 - accuracy: 1.0000 - val_loss: 1.7680 - val_accuracy: 0.7292\n",
            "Epoch 42/50\n",
            "20/20 [==============================] - 29s 1s/step - loss: 8.1019e-04 - accuracy: 1.0000 - val_loss: 1.8267 - val_accuracy: 0.6875\n",
            "Epoch 43/50\n",
            "20/20 [==============================] - 29s 1s/step - loss: 5.4979e-04 - accuracy: 1.0000 - val_loss: 1.5289 - val_accuracy: 0.7812\n",
            "Epoch 44/50\n",
            "20/20 [==============================] - 31s 2s/step - loss: 6.4217e-04 - accuracy: 1.0000 - val_loss: 1.7947 - val_accuracy: 0.7917\n",
            "Epoch 45/50\n",
            "20/20 [==============================] - 29s 1s/step - loss: 4.5241e-04 - accuracy: 1.0000 - val_loss: 1.4086 - val_accuracy: 0.8125\n",
            "Epoch 46/50\n",
            "20/20 [==============================] - 29s 1s/step - loss: 3.7853e-04 - accuracy: 1.0000 - val_loss: 3.1129 - val_accuracy: 0.6771\n",
            "Epoch 47/50\n",
            "20/20 [==============================] - 29s 1s/step - loss: 3.8942e-04 - accuracy: 1.0000 - val_loss: 2.2254 - val_accuracy: 0.6979\n",
            "Epoch 48/50\n",
            "20/20 [==============================] - 30s 1s/step - loss: 2.3882e-04 - accuracy: 1.0000 - val_loss: 1.6963 - val_accuracy: 0.7083\n",
            "Epoch 49/50\n",
            "20/20 [==============================] - 29s 1s/step - loss: 2.2616e-04 - accuracy: 1.0000 - val_loss: 1.9716 - val_accuracy: 0.7500\n",
            "Epoch 50/50\n",
            "20/20 [==============================] - 29s 1s/step - loss: 2.9311e-04 - accuracy: 1.0000 - val_loss: 3.0448 - val_accuracy: 0.6875\n"
          ]
        }
      ]
    },
    {
      "cell_type": "code",
      "source": [
        "import matplotlib.pyplot as plt\n",
        "acc = c_histroy.history['accuracy']\n",
        "val_acc = c_histroy.history['val_accuracy']\n",
        "\n",
        "epoch = range(1, len(acc)+1) #정확도의 개수\n",
        "\n",
        "plt.plot(epoch, acc, c='red', label = 'Train acc') # 훈련 데이터 정확도\n",
        "plt.plot(epoch, val_acc, c= 'blue', label = 'val acc') # 검증 데이터 정확도\n",
        "plt.legend() #범례\n",
        "plt.plot() \n",
        "\n"
      ],
      "metadata": {
        "colab": {
          "base_uri": "https://localhost:8080/",
          "height": 283
        },
        "id": "c6xusFsEcJ11",
        "outputId": "50addbf8-6669-4082-f538-9d072addf46d"
      },
      "execution_count": 78,
      "outputs": [
        {
          "output_type": "execute_result",
          "data": {
            "text/plain": [
              "[]"
            ]
          },
          "metadata": {},
          "execution_count": 78
        },
        {
          "output_type": "display_data",
          "data": {
            "text/plain": [
              "<Figure size 432x288 with 1 Axes>"
            ],
            "image/png": "[encoded data removed]"
          },
          "metadata": {
            "needs_background": "light"
          }
        }
      ]
    }
  ]
}