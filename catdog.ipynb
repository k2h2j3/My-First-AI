{
  "nbformat": 4,
  "nbformat_minor": 0,
  "metadata": {
    "colab": {
      "name": "catdog.ipynb",
      "provenance": [],
      "collapsed_sections": [],
      "mount_file_id": "1UnC6cuMLc9WK3DQmdK-SnW8cHwZ3m_eW",
      "authorship_tag": "ABX9TyNSpVYKs8saCVYLKfbXS8GF",
      "include_colab_link": true
    },
    "kernelspec": {
      "name": "python3",
      "display_name": "Python 3"
    },
    "language_info": {
      "name": "python"
    }
  },
  "cells": [
    {
      "cell_type": "markdown",
      "metadata": {
        "id": "view-in-github",
        "colab_type": "text"
      },
      "source": [
        "<a href=\"https://colab.research.google.com/github/k2h2j3/My-First-AI/blob/master/catdog.ipynb\" target=\"_parent\"><img src=\"https://colab.research.google.com/assets/colab-badge.svg\" alt=\"Open In Colab\"/></a>"
      ]
    },
    {
      "cell_type": "code",
      "execution_count": null,
      "metadata": {
        "id": "jISPJaRjtkGb"
      },
      "outputs": [],
      "source": [
        ""
      ]
    },
    {
      "cell_type": "markdown",
      "source": [
        "#### 데이터구성(개,고양이)\n",
        "- 총 3000개(train 2000, valisation 1000)으로 구성된 데이터셋\n",
        "\n",
        "-각각의 데이터는 절반은 dog, 절반은 cat\n",
        "-\n"
      ],
      "metadata": {
        "id": "-KMO8RUFtrC0"
      }
    },
    {
      "cell_type": "code",
      "source": [
        "import os"
      ],
      "metadata": {
        "id": "bs9hOF11uVwE"
      },
      "execution_count": null,
      "outputs": []
    },
    {
      "cell_type": "code",
      "source": [
        "train_dir = 'drive/MyDrive/Colab Notebooks/dogs_vs_cats_small/train'\n",
        "test_dir = 'drive/MyDrive/Colab Notebooks/dogs_vs_cats_small/test'\n",
        "validation_dir = 'drive/MyDrive/Colab Notebooks/dogs_vs_cats_small/validation'\n",
        "\n",
        "train_dogs_dir = 'drive/MyDrive/Colab Notebooks/dogs_vs_cats_small/train/dogs'\n",
        "train_cats_dir = 'drive/MyDrive/Colab Notebooks/dogs_vs_cats_small/train/cats'\n",
        "\n",
        "test_dogs_dir = 'drive/MyDrive/Colab Notebooks/dogs_vs_cats_small/test/dogs'\n",
        "test_cats_dir = 'drive/MyDrive/Colab Notebooks/dogs_vs_cats_small/test/cats'\n",
        "\n",
        "validation_dogs_dir = 'drive/MyDrive/Colab Notebooks/dogs_vs_cats_small/validation/dogs'\n",
        "validation_cats_dir = 'drive/MyDrive/Colab Notebooks/dogs_vs_cats_small/validation/cats'\n"
      ],
      "metadata": {
        "id": "KkHXzWdE1K26"
      },
      "execution_count": null,
      "outputs": []
    },
    {
      "cell_type": "code",
      "source": [
        "#listdir() 해당폴더에 있는 파일을 가져온다\n",
        "print(\"훈련 개 데이터 수 : {}\".format(len(os.listdir(train_dogs_dir))))\n",
        "print(\"훈련 고양이 데이터 수 : {}\".format(len(os.listdir(train_cats_dir))))\n",
        "\n",
        "print(\"테스트 개 데이터 수 : {}\".format(len(os.listdir(test_dogs_dir))))\n",
        "print(\"테스트 고양이 데이터 수 : {}\".format(len(os.listdir(test_cats_dir))))\n",
        "\n",
        "print(\"검증 개 데이터 수 : {}\".format(len(os.listdir(validation_dogs_dir))))\n",
        "print(\"검증 고양이 데이터 수 : {}\".format(len(os.listdir(validation_cats_dir))))"
      ],
      "metadata": {
        "colab": {
          "base_uri": "https://localhost:8080/"
        },
        "id": "tqtdbbDk-bQ5",
        "outputId": "7dc1417b-52f2-4784-9815-c36437e7e8f4"
      },
      "execution_count": null,
      "outputs": [
        {
          "output_type": "stream",
          "name": "stdout",
          "text": [
            "훈련 개 데이터 수 : 1000\n",
            "훈련 고양이 데이터 수 : 1000\n",
            "테스트 개 데이터 수 : 11\n",
            "테스트 고양이 데이터 수 : 11\n",
            "검증 개 데이터 수 : 500\n",
            "검증 고양이 데이터 수 : 500\n"
          ]
        }
      ]
    },
    {
      "cell_type": "markdown",
      "source": [
        "#### 이미지 전처리\n",
        "-이미지를 같은 크기로 만들어 주어야 한다\n",
        "-0~255 범위의 픽셀값을 0~1 사이의 범위로 변환\n",
        "-라벨링(데이터를 수치화)\n",
        "-imageDataGenerator() 함수를 사용\n"
      ],
      "metadata": {
        "id": "n4MMjtAnCZxe"
      }
    },
    {
      "cell_type": "code",
      "source": [
        "from tensorflow import keras\n",
        "from tensorflow.keras.preprocessing.image import ImageDataGenerator"
      ],
      "metadata": {
        "id": "HuGalJofDXIW"
      },
      "execution_count": null,
      "outputs": []
    },
    {
      "cell_type": "code",
      "source": [
        "train_gen = ImageDataGenerator( rescale = 1./255)\n",
        "val_gen = ImageDataGenerator( rescale = 1./255)\n",
        "test_gen = ImageDataGenerator( rescale = 1./255)"
      ],
      "metadata": {
        "id": "bpSwOTkEEP8-"
      },
      "execution_count": null,
      "outputs": []
    },
    {
      "cell_type": "code",
      "source": [
        "# flow_from_directory: 폴더에서 이미지 가져오기\n",
        "# 폴더명, 이미지 크기, 한번에 변환 할 이미지 수, 라벨링 모드\n",
        "# 이진분류 = binary, 다중 분류 = categorical \n",
        "# 라벨 번호는 0부터 시작(cat은 0, dog는 1)\n",
        "train_generator = train_gen.flow_from_directory(train_dir,\n",
        "                              target_size =(150,150),\n",
        "                              batch_size=10,\n",
        "                              class_mode = 'binary')\n",
        "val_generator = val_gen.flow_from_directory( validation_dir,\n",
        "                            target_size = (150,150),\n",
        "                            batch_size=10,\n",
        "                            class_mode =  'binary')\n",
        "test_generator = test_gen.flow_from_directory( test_dir,\n",
        "                            target_size = (150,150),\n",
        "                            batch_size=10,\n",
        "                            class_mode =  'binary')"
      ],
      "metadata": {
        "colab": {
          "base_uri": "https://localhost:8080/"
        },
        "id": "uuCtuOqfFGzO",
        "outputId": "5ccc45ff-2723-4325-9dbc-82a1bca9bb86"
      },
      "execution_count": null,
      "outputs": [
        {
          "output_type": "stream",
          "name": "stdout",
          "text": [
            "Found 2000 images belonging to 2 classes.\n",
            "Found 1000 images belonging to 2 classes.\n",
            "Found 22 images belonging to 2 classes.\n"
          ]
        }
      ]
    },
    {
      "cell_type": "code",
      "source": [
        "# 라벨링 결과\n",
        "\n",
        "print(train_generator.class_indices)\n",
        "print(test_generator.class_indices)\n",
        "print(val_generator.class_indices)\n"
      ],
      "metadata": {
        "colab": {
          "base_uri": "https://localhost:8080/"
        },
        "id": "CMGG8QhfIKlN",
        "outputId": "acfb2139-e662-449b-a298-23f03a0248eb"
      },
      "execution_count": null,
      "outputs": [
        {
          "output_type": "stream",
          "name": "stdout",
          "text": [
            "{'cats': 0, 'dogs': 1}\n",
            "{'cats': 0, 'dogs': 1}\n",
            "{'cats': 0, 'dogs': 1}\n"
          ]
        }
      ]
    },
    {
      "cell_type": "markdown",
      "source": [
        "초기화를 위한 seed 설정"
      ],
      "metadata": {
        "id": "3MQ0a_PCI0PE"
      }
    },
    {
      "cell_type": "code",
      "source": [
        "import numpy as np\n",
        "import tensorflow as tf\n",
        "\n",
        "seed = 0\n",
        "np.random.seed(seed)\n",
        "tf.random.set_seed(seed)"
      ],
      "metadata": {
        "id": "w0zDbYyXI2qU"
      },
      "execution_count": null,
      "outputs": []
    },
    {
      "cell_type": "code",
      "source": [
        "from tensorflow.keras.models import Sequential\n",
        "from tensorflow.keras.layers import Dense, Dropout, InputLayer, Flatten"
      ],
      "metadata": {
        "id": "qCP-9PDkJEIE"
      },
      "execution_count": null,
      "outputs": []
    },
    {
      "cell_type": "markdown",
      "source": [
        "### mlp로 구현해보기"
      ],
      "metadata": {
        "id": "Lac0-897WPyJ"
      }
    },
    {
      "cell_type": "code",
      "source": [
        "# 1. 신경망 구조 설계\n",
        "model = Sequential() #뼈대\n",
        "\n",
        "# 입력층\n",
        "model.add(InputLayer(input_shape=(150,150,3))) #Dense(input_dim)\n",
        "model.add(Flatten()) #이미지를 1차원으로 핀다\n",
        "model.add(Dense(units=64, activation='relu'))\n",
        "# 은닉층\n",
        "model.add(Dense(units=64, activation='relu'))\n",
        "# 출력층\n",
        "model.add(Dense(units=1, activation='sigmoid'))"
      ],
      "metadata": {
        "id": "EJMfSEesJTzU"
      },
      "execution_count": null,
      "outputs": []
    },
    {
      "cell_type": "code",
      "source": [
        "model.summary() #모델 요약 "
      ],
      "metadata": {
        "colab": {
          "base_uri": "https://localhost:8080/"
        },
        "id": "4hr_IZmzKnrV",
        "outputId": "b44549c5-784b-451b-b01c-d0877e5e970c"
      },
      "execution_count": null,
      "outputs": [
        {
          "output_type": "stream",
          "name": "stdout",
          "text": [
            "Model: \"sequential_1\"\n",
            "_________________________________________________________________\n",
            " Layer (type)                Output Shape              Param #   \n",
            "=================================================================\n",
            " flatten_1 (Flatten)         (None, 67500)             0         \n",
            "                                                                 \n",
            " dense_2 (Dense)             (None, 64)                4320064   \n",
            "                                                                 \n",
            " dense_3 (Dense)             (None, 64)                4160      \n",
            "                                                                 \n",
            " dense_4 (Dense)             (None, 1)                 65        \n",
            "                                                                 \n",
            "=================================================================\n",
            "Total params: 4,324,289\n",
            "Trainable params: 4,324,289\n",
            "Non-trainable params: 0\n",
            "_________________________________________________________________\n"
          ]
        }
      ]
    },
    {
      "cell_type": "code",
      "source": [
        "# 2. 모델 학습/평가 방법 설정\n",
        "model.compile(\n",
        "    loss='binary_crossentropy',\n",
        "    optimizer= 'adam',\n",
        "    metrics = ['accuracy']    \n",
        ")"
      ],
      "metadata": {
        "id": "lJ-RRPEkK2Lz"
      },
      "execution_count": null,
      "outputs": []
    },
    {
      "cell_type": "code",
      "source": [
        "# 3. 학습\n",
        "history = model.fit_generator(generator=train_generator,\n",
        "                    steps_per_epoch = 50,# 한번 epoch에 저장한 데이터수\n",
        "                    epochs = 10, #우리가 가지고 있는 전체데이터를 학습시켰을때\n",
        "                    validation_data = val_generator, #검증 데이터로 활용\n",
        "                    validation_steps = 25)\n"
      ],
      "metadata": {
        "colab": {
          "base_uri": "https://localhost:8080/"
        },
        "id": "WIg6czlDLLnz",
        "outputId": "5a7f1916-3719-4ecc-a783-c34e4b8a47cf"
      },
      "execution_count": null,
      "outputs": [
        {
          "output_type": "stream",
          "name": "stderr",
          "text": [
            "/usr/local/lib/python3.7/dist-packages/ipykernel_launcher.py:6: UserWarning: `Model.fit_generator` is deprecated and will be removed in a future version. Please use `Model.fit`, which supports generators.\n",
            "  \n"
          ]
        },
        {
          "output_type": "stream",
          "name": "stdout",
          "text": [
            "Epoch 1/10\n",
            "50/50 [==============================] - 21s 419ms/step - loss: 0.7177 - accuracy: 0.5000 - val_loss: 0.7862 - val_accuracy: 0.4960\n",
            "Epoch 2/10\n",
            "50/50 [==============================] - 22s 432ms/step - loss: 0.6923 - accuracy: 0.5500 - val_loss: 0.6959 - val_accuracy: 0.5080\n",
            "Epoch 3/10\n",
            "50/50 [==============================] - 13s 273ms/step - loss: 0.6984 - accuracy: 0.5240 - val_loss: 0.6861 - val_accuracy: 0.5200\n",
            "Epoch 4/10\n",
            "50/50 [==============================] - 14s 273ms/step - loss: 0.7137 - accuracy: 0.5180 - val_loss: 0.6884 - val_accuracy: 0.5280\n",
            "Epoch 5/10\n",
            "50/50 [==============================] - 10s 204ms/step - loss: 0.6908 - accuracy: 0.5600 - val_loss: 0.6846 - val_accuracy: 0.5560\n",
            "Epoch 6/10\n",
            "50/50 [==============================] - 8s 162ms/step - loss: 0.7268 - accuracy: 0.5220 - val_loss: 0.7973 - val_accuracy: 0.5080\n",
            "Epoch 7/10\n",
            "50/50 [==============================] - 8s 160ms/step - loss: 0.7078 - accuracy: 0.5280 - val_loss: 0.6888 - val_accuracy: 0.5160\n",
            "Epoch 8/10\n",
            "50/50 [==============================] - 6s 126ms/step - loss: 0.6892 - accuracy: 0.5600 - val_loss: 0.6970 - val_accuracy: 0.5280\n",
            "Epoch 9/10\n",
            "50/50 [==============================] - 6s 127ms/step - loss: 0.7000 - accuracy: 0.4900 - val_loss: 0.6918 - val_accuracy: 0.5120\n",
            "Epoch 10/10\n",
            "50/50 [==============================] - 7s 132ms/step - loss: 0.6904 - accuracy: 0.5280 - val_loss: 0.6929 - val_accuracy: 0.5120\n"
          ]
        }
      ]
    },
    {
      "cell_type": "code",
      "source": [
        "import matplotlib.pyplot as plt\n",
        "acc = history.history['accuracy']\n",
        "val_acc = history.history['val_accuracy']\n",
        "\n",
        "epoch = range(1, len(acc)+1) #정확도의 개수\n",
        "\n",
        "plt.plot(epoch, acc, c='red', label = 'Train acc') # 훈련 데이터 정확도\n",
        "plt.plot(epoch, val_acc, c= 'blue', label = 'val acc') # 검증 데이터 정확도\n",
        "plt.legend() #범례\n",
        "plt.plot()\n"
      ],
      "metadata": {
        "colab": {
          "base_uri": "https://localhost:8080/",
          "height": 283
        },
        "id": "Kk7Kb8EbVCGR",
        "outputId": "43126918-61f0-48f6-8246-2df1109e04db"
      },
      "execution_count": null,
      "outputs": [
        {
          "output_type": "execute_result",
          "data": {
            "text/plain": [
              "[]"
            ]
          },
          "metadata": {},
          "execution_count": 40
        },
        {
          "output_type": "display_data",
          "data": {
            "text/plain": [
              "<Figure size 432x288 with 1 Axes>"
            ],
            "image/png": "[encoded data removed]"
          },
          "metadata": {
            "needs_background": "light"
          }
        }
      ]
    },
    {
      "cell_type": "markdown",
      "source": [
        "### CNN을 입력층으로 한 신경망 설계"
      ],
      "metadata": {
        "id": "wYxSGYLIWjf3"
      }
    },
    {
      "cell_type": "code",
      "source": [
        "from tensorflow.keras.models import Sequential\n",
        "from tensorflow.keras.layers import Dense, Dropout\n",
        "from tensorflow.keras.layers import Conv2D, MaxPooling2D, Flatten\n",
        "# Con2D : 특징찾기\n",
        "# MaxPooling2D: 불필요한 부분 삭제\n",
        "# Flatten : 데이터를 1차원으로 펴줌"
      ],
      "metadata": {
        "id": "Ug0FLz-xW5Al"
      },
      "execution_count": null,
      "outputs": []
    },
    {
      "cell_type": "code",
      "source": [
        "from matplotlib.cbook import flatten\n",
        "c_model = Sequential()\n",
        "\n",
        "# 입력층(CNN)\n",
        "# 특징을 도드라지게 해준다\n",
        "c_model.add(Conv2D(filters = 16, # 사진에서 찾을 특성 개수\n",
        "                   kernel_size = (3,3), # 한번에 확인할 픽셀의 수\n",
        "                   input_shape = (150,150,3), # 입력 데이터의 크기\n",
        "                   padding = 'same', # 가장 자리를 0으로 채움 \n",
        "                  # same : 입력데이터의 크기와 동일하게 맞춰준다\n",
        "                   activation = 'relu'))\n",
        "#불필요한 부분 삭제\n",
        "c_model.add(MaxPooling2D(pool_size = (2,2)))\n",
        "\n",
        "c_model.add(Conv2D(filters = 16, # 사진에서 찾을 특성 개수\n",
        "                   kernel_size = (3,3), # 한번에 확인할 픽셀의 수\n",
        "                   input_shape = (150,150,3), # 입력 데이터의 크기\n",
        "                   padding = 'same', # 가장 자리를 0으로 채움 \n",
        "                  # same : 입력데이터의 크기와 동일하게 맞춰준다\n",
        "                   activation = 'relu'))\n",
        "\n",
        "c_model.add(MaxPooling2D(pool_size = (2,2)))\n",
        "\n",
        "# 1차원으로 데이터 축소\n",
        "c_model.add(Flatten())\n",
        "\n",
        "#은닉층\n",
        "c_model.add(Dense(units=1, activation = 'sigmoid'))\n",
        "\n",
        "#출력층\n",
        "c_model.add(Dense(units=1, activation= 'sigmoid'))\n",
        "\n",
        "c_model.summary()"
      ],
      "metadata": {
        "colab": {
          "base_uri": "https://localhost:8080/"
        },
        "id": "LXnzK9bXXVbH",
        "outputId": "75851d7e-9d55-453d-9503-adf50ef9c473"
      },
      "execution_count": null,
      "outputs": [
        {
          "output_type": "stream",
          "name": "stdout",
          "text": [
            "Model: \"sequential_3\"\n",
            "_________________________________________________________________\n",
            " Layer (type)                Output Shape              Param #   \n",
            "=================================================================\n",
            " conv2d_2 (Conv2D)           (None, 150, 150, 16)      448       \n",
            "                                                                 \n",
            " max_pooling2d_2 (MaxPooling  (None, 75, 75, 16)       0         \n",
            " 2D)                                                             \n",
            "                                                                 \n",
            " conv2d_3 (Conv2D)           (None, 75, 75, 16)        2320      \n",
            "                                                                 \n",
            " max_pooling2d_3 (MaxPooling  (None, 37, 37, 16)       0         \n",
            " 2D)                                                             \n",
            "                                                                 \n",
            " flatten_2 (Flatten)         (None, 21904)             0         \n",
            "                                                                 \n",
            " dense_5 (Dense)             (None, 1)                 21905     \n",
            "                                                                 \n",
            " dense_6 (Dense)             (None, 1)                 2         \n",
            "                                                                 \n",
            "=================================================================\n",
            "Total params: 24,675\n",
            "Trainable params: 24,675\n",
            "Non-trainable params: 0\n",
            "_________________________________________________________________\n"
          ]
        }
      ]
    },
    {
      "cell_type": "code",
      "source": [
        "c_model.compile(loss='binary_crossentropy',\n",
        "                optimizer = 'adam',\n",
        "                metrics=['accuracy'])"
      ],
      "metadata": {
        "id": "zTwqWP03a0hu"
      },
      "execution_count": null,
      "outputs": []
    },
    {
      "cell_type": "code",
      "source": [
        "c_histroy = c_model.fit_generator(generator=train_generator,\n",
        "            steps_per_epoch=50,\n",
        "            epochs=10,\n",
        "            validation_data = val_generator,\n",
        "            validation_steps = 25)"
      ],
      "metadata": {
        "colab": {
          "base_uri": "https://localhost:8080/"
        },
        "id": "BKJtNMwSbDkW",
        "outputId": "d237633e-273a-4db8-a343-c074274fb823"
      },
      "execution_count": null,
      "outputs": [
        {
          "output_type": "stream",
          "name": "stdout",
          "text": [
            "Epoch 1/10\n"
          ]
        },
        {
          "output_type": "stream",
          "name": "stderr",
          "text": [
            "/usr/local/lib/python3.7/dist-packages/ipykernel_launcher.py:5: UserWarning: `Model.fit_generator` is deprecated and will be removed in a future version. Please use `Model.fit`, which supports generators.\n",
            "  \"\"\"\n"
          ]
        },
        {
          "output_type": "stream",
          "name": "stdout",
          "text": [
            "50/50 [==============================] - 11s 226ms/step - loss: 0.6932 - accuracy: 0.5020 - val_loss: 0.6931 - val_accuracy: 0.5080\n",
            "Epoch 2/10\n",
            "50/50 [==============================] - 11s 224ms/step - loss: 0.6932 - accuracy: 0.4920 - val_loss: 0.6931 - val_accuracy: 0.5040\n",
            "Epoch 3/10\n",
            "50/50 [==============================] - 11s 225ms/step - loss: 0.6932 - accuracy: 0.4500 - val_loss: 0.6932 - val_accuracy: 0.4960\n",
            "Epoch 4/10\n",
            "50/50 [==============================] - 12s 240ms/step - loss: 0.6932 - accuracy: 0.5100 - val_loss: 0.6932 - val_accuracy: 0.4880\n",
            "Epoch 5/10\n",
            "50/50 [==============================] - 11s 224ms/step - loss: 0.6929 - accuracy: 0.5380 - val_loss: 0.6935 - val_accuracy: 0.4800\n",
            "Epoch 6/10\n",
            "50/50 [==============================] - 11s 226ms/step - loss: 0.6935 - accuracy: 0.4760 - val_loss: 0.6930 - val_accuracy: 0.5320\n",
            "Epoch 7/10\n",
            "50/50 [==============================] - 11s 223ms/step - loss: 0.6928 - accuracy: 0.5380 - val_loss: 0.6937 - val_accuracy: 0.4720\n",
            "Epoch 8/10\n",
            "50/50 [==============================] - 11s 224ms/step - loss: 0.6926 - accuracy: 0.5300 - val_loss: 0.6935 - val_accuracy: 0.4880\n",
            "Epoch 9/10\n",
            "50/50 [==============================] - 11s 225ms/step - loss: 0.6930 - accuracy: 0.5100 - val_loss: 0.6931 - val_accuracy: 0.5040\n",
            "Epoch 10/10\n",
            "50/50 [==============================] - 11s 224ms/step - loss: 0.6936 - accuracy: 0.4880 - val_loss: 0.6943 - val_accuracy: 0.4520\n"
          ]
        }
      ]
    },
    {
      "cell_type": "code",
      "source": [
        "import matplotlib.pyplot as plt\n",
        "acc = c_histroy.history['accuracy']\n",
        "val_acc = c_histroy.history['val_accuracy']\n",
        "\n",
        "epoch = range(1, len(acc)+1) #정확도의 개수\n",
        "\n",
        "plt.plot(epoch, acc, c='red', label = 'Train acc') # 훈련 데이터 정확도\n",
        "plt.plot(epoch, val_acc, c= 'blue', label = 'val acc') # 검증 데이터 정확도\n",
        "plt.legend() #범례\n",
        "plt.plot()\n",
        "\n"
      ],
      "metadata": {
        "colab": {
          "base_uri": "https://localhost:8080/",
          "height": 283
        },
        "id": "c6xusFsEcJ11",
        "outputId": "88076827-ffff-4fb7-bbb7-a70c67cc64fb"
      },
      "execution_count": null,
      "outputs": [
        {
          "output_type": "execute_result",
          "data": {
            "text/plain": [
              "[]"
            ]
          },
          "metadata": {},
          "execution_count": 52
        },
        {
          "output_type": "display_data",
          "data": {
            "text/plain": [
              "<Figure size 432x288 with 1 Axes>"
            ],
            "image/png": "[encoded data removed]"
          },
          "metadata": {
            "needs_background": "light"
          }
        }
      ]
    }
  ]
}