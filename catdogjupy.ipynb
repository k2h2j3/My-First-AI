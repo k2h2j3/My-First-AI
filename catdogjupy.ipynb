{
 "cells": [
  {
   "cell_type": "code",
   "execution_count": 16,
   "id": "c2f1f2d8",
   "metadata": {},
   "outputs": [],
   "source": [
    "import os\n",
    "from tensorflow import keras\n",
    "from tensorflow.keras.preprocessing.image import ImageDataGenerator\n",
    "\n",
    "from tensorflow.keras.models import Sequential\n",
    "from tensorflow.keras.layers import Dense, Dropout\n",
    "from tensorflow.keras.layers import Conv2D, MaxPooling2D, Flatten\n",
    "from matplotlib.cbook import flatten\n",
    "\n",
    "import numpy as np\n",
    "import tensorflow as tf"
   ]
  },
  {
   "cell_type": "code",
   "execution_count": 10,
   "id": "79c923dd",
   "metadata": {
    "scrolled": true
   },
   "outputs": [
    {
     "name": "stdout",
     "output_type": "stream",
     "text": [
      "C:\\aiproject\\dataset\n"
     ]
    }
   ],
   "source": [
    "cd aiproject/dataset/"
   ]
  },
  {
   "cell_type": "code",
   "execution_count": 17,
   "id": "f47b50c4",
   "metadata": {},
   "outputs": [],
   "source": [
    "train_dir = 'C:/aiproject/dataset/train'\n",
    "test_dir = 'C:/aiproject/dataset/test'\n",
    "validation_dir = 'C:/aiproject/dataset/validation'\n",
    "\n",
    "train_dogs_dir = 'C:/aiproject/dataset/train/dogs'\n",
    "train_cats_dir = 'C:/aiproject/dataset/train/cats'\n",
    "\n",
    "test_dogs_dir = 'C:/aiproject/dataset/test/dogs'\n",
    "test_cats_dir = 'C:/aiproject/dataset/test/cats'\n",
    "\n",
    "validation_dogs_dir = 'C:/aiproject/dataset/validation/dogs'\n",
    "validation_cats_dir = 'C:/aiproject/dataset/validation/cats'"
   ]
  },
  {
   "cell_type": "code",
   "execution_count": 19,
   "id": "e5e5592e",
   "metadata": {
    "scrolled": true
   },
   "outputs": [
    {
     "name": "stdout",
     "output_type": "stream",
     "text": [
      "훈련 개 데이터 수 : 12500\n",
      "훈련 고양이 데이터 수 : 12500\n",
      "테스트 개 데이터 수 : 500\n",
      "테스트 고양이 데이터 수 : 500\n",
      "검증 개 데이터 수 : 1000\n",
      "검증 고양이 데이터 수 : 1000\n"
     ]
    }
   ],
   "source": [
    "#listdir() 해당폴더에 있는 파일을 가져온다\n",
    "print(\"훈련 개 데이터 수 : {}\".format(len(os.listdir(train_dogs_dir))))\n",
    "print(\"훈련 고양이 데이터 수 : {}\".format(len(os.listdir(train_cats_dir))))\n",
    "\n",
    "print(\"테스트 개 데이터 수 : {}\".format(len(os.listdir(test_dogs_dir))))\n",
    "print(\"테스트 고양이 데이터 수 : {}\".format(len(os.listdir(test_cats_dir))))\n",
    "\n",
    "print(\"검증 개 데이터 수 : {}\".format(len(os.listdir(validation_dogs_dir))))\n",
    "print(\"검증 고양이 데이터 수 : {}\".format(len(os.listdir(validation_cats_dir))))\n"
   ]
  },
  {
   "cell_type": "code",
   "execution_count": 20,
   "id": "3d936068",
   "metadata": {},
   "outputs": [],
   "source": [
    "#스케일링\n",
    "train_gen = ImageDataGenerator( rescale = 1./255)\n",
    "val_gen = ImageDataGenerator( rescale = 1./255)\n",
    "test_gen = ImageDataGenerator( rescale = 1./255)"
   ]
  },
  {
   "cell_type": "code",
   "execution_count": 21,
   "id": "eeb9cfab",
   "metadata": {},
   "outputs": [
    {
     "name": "stdout",
     "output_type": "stream",
     "text": [
      "Found 25000 images belonging to 2 classes.\n",
      "Found 2000 images belonging to 2 classes.\n",
      "Found 1000 images belonging to 2 classes.\n"
     ]
    }
   ],
   "source": [
    "# flow_from_directory: 폴더에서 이미지 가져오기\n",
    "# 폴더명, 이미지 크기, 한번에 변환 할 이미지 수, 라벨링 모드\n",
    "# 이진분류 = binary, 다중 분류 = categorical \n",
    "# 라벨 번호는 0부터 시작(cat은 0, dog는 1)\n",
    "train_generator = train_gen.flow_from_directory(train_dir,\n",
    "                              target_size =(64,64),\n",
    "                              batch_size=32,\n",
    "                              class_mode = 'binary')\n",
    "val_generator = val_gen.flow_from_directory( validation_dir,\n",
    "                            target_size = (64,64),\n",
    "                            batch_size=32,\n",
    "                            class_mode =  'binary')\n",
    "test_generator = test_gen.flow_from_directory( test_dir,\n",
    "                            target_size = (64,64),\n",
    "                            batch_size=32,\n",
    "                            class_mode =  'binary')"
   ]
  },
  {
   "cell_type": "code",
   "execution_count": 22,
   "id": "08c15649",
   "metadata": {},
   "outputs": [],
   "source": [
    "seed = 0\n",
    "np.random.seed(seed)\n",
    "tf.random.set_seed(seed)"
   ]
  },
  {
   "cell_type": "code",
   "execution_count": 23,
   "id": "30eadf54",
   "metadata": {},
   "outputs": [
    {
     "name": "stdout",
     "output_type": "stream",
     "text": [
      "Model: \"sequential\"\n",
      "_________________________________________________________________\n",
      " Layer (type)                Output Shape              Param #   \n",
      "=================================================================\n",
      " conv2d (Conv2D)             (None, 64, 64, 32)        896       \n",
      "                                                                 \n",
      " max_pooling2d (MaxPooling2D  (None, 32, 32, 32)       0         \n",
      " )                                                               \n",
      "                                                                 \n",
      " conv2d_1 (Conv2D)           (None, 32, 32, 32)        9248      \n",
      "                                                                 \n",
      " max_pooling2d_1 (MaxPooling  (None, 16, 16, 32)       0         \n",
      " 2D)                                                             \n",
      "                                                                 \n",
      " flatten (Flatten)           (None, 8192)              0         \n",
      "                                                                 \n",
      " dense (Dense)               (None, 128)               1048704   \n",
      "                                                                 \n",
      " dense_1 (Dense)             (None, 1)                 129       \n",
      "                                                                 \n",
      "=================================================================\n",
      "Total params: 1,058,977\n",
      "Trainable params: 1,058,977\n",
      "Non-trainable params: 0\n",
      "_________________________________________________________________\n"
     ]
    }
   ],
   "source": [
    "c_model = Sequential()\n",
    "\n",
    "# 입력층(CNN)\n",
    "# 특징을 도드라지게 해준다\n",
    "c_model.add(Conv2D(filters = 32, # 사진에서 찾을 특성 개수\n",
    "                   kernel_size = (3,3), # 한번에 확인할 픽셀의 수\n",
    "                   input_shape = (64,64,3), # 입력 데이터의 크기\n",
    "                   padding = 'same', # 가장 자리를 0으로 채움 \n",
    "                  # same : 입력데이터의 크기와 동일하게 맞춰준다\n",
    "                   activation = 'relu'))\n",
    "#불필요한 부분 삭제\n",
    "c_model.add(MaxPooling2D(pool_size = (2,2),strides=2))\n",
    "\n",
    "c_model.add(Conv2D(filters = 32, # 사진에서 찾을 특성 개수\n",
    "                   kernel_size = (3,3), # 한번에 확인할 픽셀의 수\n",
    "                   input_shape = (64,64,3), # 입력 데이터의 크기\n",
    "                   padding = 'same', # 가장 자리를 0으로 채움(입력이미지크기=출력이미지크기)\n",
    "                  # same : 입력데이터의 크기와 동일하게 맞춰준다\n",
    "                   activation = 'relu'))\n",
    "\n",
    "c_model.add(MaxPooling2D(pool_size = (2,2),strides=2))\n",
    "\n",
    "# 1차원으로 데이터 축소\n",
    "c_model.add(Flatten())\n",
    "\n",
    "#은닉층\n",
    "c_model.add(Dense(units=128, activation = 'relu'))\n",
    "\n",
    "#출력층\n",
    "c_model.add(Dense(units=1, activation= 'sigmoid'))\n",
    "\n",
    "c_model.summary()"
   ]
  },
  {
   "cell_type": "code",
   "execution_count": 24,
   "id": "3fde8c63",
   "metadata": {},
   "outputs": [
    {
     "name": "stderr",
     "output_type": "stream",
     "text": [
      "C:\\Users\\k2h2j3\\anaconda3\\lib\\site-packages\\keras\\optimizer_v2\\adam.py:105: UserWarning: The `lr` argument is deprecated, use `learning_rate` instead.\n",
      "  super(Adam, self).__init__(name, **kwargs)\n",
      "C:\\Users\\k2h2j3\\AppData\\Local\\Temp/ipykernel_14588/3327957256.py:5: UserWarning: `Model.fit_generator` is deprecated and will be removed in a future version. Please use `Model.fit`, which supports generators.\n",
      "  c_history = c_model.fit_generator(generator=train_generator,\n"
     ]
    },
    {
     "name": "stdout",
     "output_type": "stream",
     "text": [
      "Epoch 1/50\n",
      "200/200 [==============================] - 18s 88ms/step - loss: 0.6794 - accuracy: 0.5770 - val_loss: 0.6572 - val_accuracy: 0.5781\n",
      "Epoch 2/50\n",
      "200/200 [==============================] - 19s 96ms/step - loss: 0.5984 - accuracy: 0.6800 - val_loss: 0.5130 - val_accuracy: 0.7500\n",
      "Epoch 3/50\n",
      "200/200 [==============================] - 20s 101ms/step - loss: 0.5522 - accuracy: 0.7145 - val_loss: 0.4589 - val_accuracy: 0.7656\n",
      "Epoch 4/50\n",
      "200/200 [==============================] - 20s 99ms/step - loss: 0.5396 - accuracy: 0.7239 - val_loss: 0.4837 - val_accuracy: 0.7656\n",
      "Epoch 5/50\n",
      "200/200 [==============================] - 20s 101ms/step - loss: 0.5232 - accuracy: 0.7389 - val_loss: 0.4741 - val_accuracy: 0.8125\n",
      "Epoch 6/50\n",
      "200/200 [==============================] - 21s 105ms/step - loss: 0.4915 - accuracy: 0.7610 - val_loss: 0.4011 - val_accuracy: 0.7812\n",
      "Epoch 7/50\n",
      "200/200 [==============================] - 22s 108ms/step - loss: 0.4669 - accuracy: 0.7767 - val_loss: 0.3244 - val_accuracy: 0.8281\n",
      "Epoch 8/50\n",
      "200/200 [==============================] - 22s 108ms/step - loss: 0.4503 - accuracy: 0.7884 - val_loss: 0.3760 - val_accuracy: 0.8438\n",
      "Epoch 9/50\n",
      "200/200 [==============================] - 20s 102ms/step - loss: 0.4345 - accuracy: 0.7967 - val_loss: 0.3727 - val_accuracy: 0.8281\n",
      "Epoch 10/50\n",
      "200/200 [==============================] - 20s 101ms/step - loss: 0.4171 - accuracy: 0.8044 - val_loss: 0.4317 - val_accuracy: 0.7656\n",
      "Epoch 11/50\n",
      "200/200 [==============================] - 20s 100ms/step - loss: 0.4158 - accuracy: 0.8098 - val_loss: 0.3960 - val_accuracy: 0.8750\n",
      "Epoch 12/50\n",
      "200/200 [==============================] - 20s 98ms/step - loss: 0.3960 - accuracy: 0.8186 - val_loss: 0.4338 - val_accuracy: 0.8438\n",
      "Epoch 13/50\n",
      "200/200 [==============================] - 20s 99ms/step - loss: 0.3909 - accuracy: 0.8219 - val_loss: 0.3834 - val_accuracy: 0.8594\n",
      "Epoch 14/50\n",
      "200/200 [==============================] - 20s 100ms/step - loss: 0.3539 - accuracy: 0.8397 - val_loss: 0.3364 - val_accuracy: 0.8594\n",
      "Epoch 15/50\n",
      "200/200 [==============================] - 20s 101ms/step - loss: 0.3525 - accuracy: 0.8427 - val_loss: 0.3566 - val_accuracy: 0.8438\n",
      "Epoch 16/50\n",
      "200/200 [==============================] - 20s 100ms/step - loss: 0.3456 - accuracy: 0.8535 - val_loss: 0.2395 - val_accuracy: 0.9531\n",
      "Epoch 17/50\n",
      "200/200 [==============================] - 22s 110ms/step - loss: 0.3154 - accuracy: 0.8676 - val_loss: 0.2425 - val_accuracy: 0.9062\n",
      "Epoch 18/50\n",
      "200/200 [==============================] - 21s 103ms/step - loss: 0.3066 - accuracy: 0.8714 - val_loss: 0.3369 - val_accuracy: 0.8750\n",
      "Epoch 19/50\n",
      "200/200 [==============================] - 20s 100ms/step - loss: 0.3059 - accuracy: 0.8719 - val_loss: 0.1960 - val_accuracy: 0.9531\n",
      "Epoch 20/50\n",
      "200/200 [==============================] - 20s 101ms/step - loss: 0.2806 - accuracy: 0.8792 - val_loss: 0.3471 - val_accuracy: 0.8438\n",
      "Epoch 21/50\n",
      "200/200 [==============================] - 21s 103ms/step - loss: 0.2562 - accuracy: 0.8960 - val_loss: 0.2604 - val_accuracy: 0.8750\n",
      "Epoch 22/50\n",
      "200/200 [==============================] - 21s 104ms/step - loss: 0.2452 - accuracy: 0.8984 - val_loss: 0.2228 - val_accuracy: 0.9531\n",
      "Epoch 23/50\n",
      "200/200 [==============================] - 20s 101ms/step - loss: 0.2216 - accuracy: 0.9128 - val_loss: 0.2421 - val_accuracy: 0.9062\n",
      "Epoch 24/50\n",
      "200/200 [==============================] - 21s 103ms/step - loss: 0.2212 - accuracy: 0.9150 - val_loss: 0.1652 - val_accuracy: 0.9219\n",
      "Epoch 25/50\n",
      "200/200 [==============================] - 21s 103ms/step - loss: 0.2047 - accuracy: 0.9187 - val_loss: 0.1641 - val_accuracy: 0.9375\n",
      "Epoch 26/50\n",
      "200/200 [==============================] - 22s 111ms/step - loss: 0.1791 - accuracy: 0.9331 - val_loss: 0.1068 - val_accuracy: 0.9688\n",
      "Epoch 27/50\n",
      "200/200 [==============================] - 22s 108ms/step - loss: 0.1830 - accuracy: 0.9317 - val_loss: 0.1056 - val_accuracy: 0.9688\n",
      "Epoch 28/50\n",
      "200/200 [==============================] - 21s 105ms/step - loss: 0.1626 - accuracy: 0.9428 - val_loss: 0.0880 - val_accuracy: 0.9844\n",
      "Epoch 29/50\n",
      "200/200 [==============================] - 20s 101ms/step - loss: 0.1516 - accuracy: 0.9477 - val_loss: 0.0646 - val_accuracy: 0.9844\n",
      "Epoch 30/50\n",
      "200/200 [==============================] - 20s 98ms/step - loss: 0.1386 - accuracy: 0.9497 - val_loss: 0.1161 - val_accuracy: 0.9688\n",
      "Epoch 31/50\n",
      "200/200 [==============================] - 20s 98ms/step - loss: 0.1190 - accuracy: 0.9588 - val_loss: 0.1738 - val_accuracy: 0.9062\n",
      "Epoch 32/50\n",
      "200/200 [==============================] - 19s 97ms/step - loss: 0.1184 - accuracy: 0.9570 - val_loss: 0.1583 - val_accuracy: 0.8906\n",
      "Epoch 33/50\n",
      "200/200 [==============================] - 20s 98ms/step - loss: 0.0975 - accuracy: 0.9642 - val_loss: 0.0320 - val_accuracy: 1.0000\n",
      "Epoch 34/50\n",
      "200/200 [==============================] - 20s 98ms/step - loss: 0.0947 - accuracy: 0.9700 - val_loss: 0.0459 - val_accuracy: 1.0000\n",
      "Epoch 35/50\n",
      "200/200 [==============================] - 20s 98ms/step - loss: 0.0839 - accuracy: 0.9731 - val_loss: 0.0802 - val_accuracy: 0.9844\n",
      "Epoch 36/50\n",
      "200/200 [==============================] - 20s 99ms/step - loss: 0.0760 - accuracy: 0.9742 - val_loss: 0.0793 - val_accuracy: 0.9531\n",
      "Epoch 37/50\n",
      "200/200 [==============================] - 20s 99ms/step - loss: 0.0701 - accuracy: 0.9770 - val_loss: 0.0910 - val_accuracy: 0.9688\n",
      "Epoch 38/50\n",
      "200/200 [==============================] - 20s 100ms/step - loss: 0.0592 - accuracy: 0.9795 - val_loss: 0.0712 - val_accuracy: 0.9844\n",
      "Epoch 39/50\n",
      "200/200 [==============================] - 20s 100ms/step - loss: 0.0593 - accuracy: 0.9818 - val_loss: 0.0534 - val_accuracy: 0.9688\n",
      "Epoch 40/50\n",
      "200/200 [==============================] - 20s 98ms/step - loss: 0.0426 - accuracy: 0.9870 - val_loss: 0.0432 - val_accuracy: 0.9844\n",
      "Epoch 41/50\n",
      "200/200 [==============================] - 20s 102ms/step - loss: 0.0512 - accuracy: 0.9850 - val_loss: 0.0268 - val_accuracy: 1.0000\n",
      "Epoch 42/50\n",
      "200/200 [==============================] - 20s 102ms/step - loss: 0.0412 - accuracy: 0.9880 - val_loss: 0.0130 - val_accuracy: 1.0000\n",
      "Epoch 43/50\n",
      "200/200 [==============================] - 20s 101ms/step - loss: 0.0545 - accuracy: 0.9816 - val_loss: 0.0863 - val_accuracy: 0.9688\n",
      "Epoch 44/50\n",
      "200/200 [==============================] - 20s 100ms/step - loss: 0.0529 - accuracy: 0.9809 - val_loss: 0.0064 - val_accuracy: 1.0000\n",
      "Epoch 45/50\n",
      "200/200 [==============================] - 20s 101ms/step - loss: 0.0356 - accuracy: 0.9878 - val_loss: 0.0493 - val_accuracy: 0.9844\n",
      "Epoch 46/50\n",
      "200/200 [==============================] - 20s 99ms/step - loss: 0.0458 - accuracy: 0.9839 - val_loss: 0.0146 - val_accuracy: 1.0000\n",
      "Epoch 47/50\n",
      "200/200 [==============================] - 20s 101ms/step - loss: 0.0293 - accuracy: 0.9914 - val_loss: 0.0449 - val_accuracy: 0.9844\n",
      "Epoch 48/50\n",
      "200/200 [==============================] - 21s 105ms/step - loss: 0.0318 - accuracy: 0.9892 - val_loss: 0.0780 - val_accuracy: 0.9688\n",
      "Epoch 49/50\n",
      "200/200 [==============================] - 21s 103ms/step - loss: 0.0296 - accuracy: 0.9914 - val_loss: 0.0414 - val_accuracy: 0.9844\n",
      "Epoch 50/50\n",
      "200/200 [==============================] - 21s 103ms/step - loss: 0.0316 - accuracy: 0.9889 - val_loss: 0.0359 - val_accuracy: 0.9844\n"
     ]
    }
   ],
   "source": [
    "adam = keras.optimizers.Adam(lr=0.001, beta_1=0.9, beta_2=0.999, epsilon=None, decay=0.0, amsgrad=False)\n",
    "c_model.compile(loss='binary_crossentropy',\n",
    "                optimizer = adam,\n",
    "                metrics=['accuracy'])\n",
    "c_history = c_model.fit_generator(generator=train_generator,\n",
    "            steps_per_epoch=200,\n",
    "            epochs=50,\n",
    "            validation_data = val_generator,\n",
    "            validation_steps = 2)"
   ]
  },
  {
   "cell_type": "code",
   "execution_count": 25,
   "id": "f7546f2f",
   "metadata": {},
   "outputs": [
    {
     "data": {
      "text/plain": [
       "[]"
      ]
     },
     "execution_count": 25,
     "metadata": {},
     "output_type": "execute_result"
    },
    {
     "data": {
      "image/png": "[encoded data removed]",
      "text/plain": [
       "<Figure size 432x288 with 1 Axes>"
      ]
     },
     "metadata": {
      "needs_background": "light"
     },
     "output_type": "display_data"
    }
   ],
   "source": [
    "import matplotlib.pyplot as plt\n",
    "acc = c_history.history['accuracy']\n",
    "val_acc = c_history.history['val_accuracy']\n",
    "\n",
    "epoch = range(1, len(acc)+1) #정확도의 개수\n",
    "\n",
    "plt.plot(epoch, acc, c='red', label = 'Train acc') # 훈련 데이터 정확도\n",
    "plt.plot(epoch, val_acc, c= 'blue', label = 'val acc') # 검증 데이터 정확도\n",
    "plt.legend() #범례\n",
    "plt.plot()"
   ]
  },
  {
   "cell_type": "code",
   "execution_count": 30,
   "id": "0948be8f",
   "metadata": {},
   "outputs": [
    {
     "data": {
      "text/plain": [
       "<matplotlib.legend.Legend at 0x1f035cb0ca0>"
      ]
     },
     "execution_count": 30,
     "metadata": {},
     "output_type": "execute_result"
    },
    {
     "data": {
      "image/png": "[encoded data removed]",
      "text/plain": [
       "<Figure size 432x288 with 1 Axes>"
      ]
     },
     "metadata": {
      "needs_background": "light"
     },
     "output_type": "display_data"
    }
   ],
   "source": [
    "loss = c_history.history['loss']\n",
    "val_loss = c_history.history['val_loss']\n",
    "\n",
    "plt.plot(epoch, loss, 'red', label='Training loss')\n",
    "plt.plot(epoch, val_loss, 'blue', label='Validation loss')\n",
    "plt.title('Training and validation loss')\n",
    "plt.xlabel('Epochs')\n",
    "plt.ylabel('Loss')\n",
    "plt.legend()"
   ]
  },
  {
   "cell_type": "code",
   "execution_count": null,
   "id": "72c34b96",
   "metadata": {},
   "outputs": [],
   "source": []
  }
 ],
 "metadata": {
  "kernelspec": {
   "display_name": "Python 3 (ipykernel)",
   "language": "python",
   "name": "python3"
  },
  "language_info": {
   "codemirror_mode": {
    "name": "ipython",
    "version": 3
   },
   "file_extension": ".py",
   "mimetype": "text/x-python",
   "name": "python",
   "nbconvert_exporter": "python",
   "pygments_lexer": "ipython3",
   "version": "3.9.7"
  }
 },
 "nbformat": 4,
 "nbformat_minor": 5
}
