{
  "nbformat": 4,
  "nbformat_minor": 0,
  "metadata": {
    "colab": {
      "name": "catdog3rd.ipynb",
      "provenance": [],
      "collapsed_sections": [],
      "mount_file_id": "1vIznrrbqJL3OXV3dAkd67JSsgbq7Ry5m",
      "authorship_tag": "ABX9TyOI5A5oX61H5ybWjejA0q3X",
      "include_colab_link": true
    },
    "kernelspec": {
      "name": "python3",
      "display_name": "Python 3"
    },
    "language_info": {
      "name": "python"
    }
  },
  "cells": [
    {
      "cell_type": "markdown",
      "metadata": {
        "id": "view-in-github",
        "colab_type": "text"
      },
      "source": [
        "<a href=\"https://colab.research.google.com/github/k2h2j3/My-First-AI/blob/master/catdog3rd.ipynb\" target=\"_parent\"><img src=\"https://colab.research.google.com/assets/colab-badge.svg\" alt=\"Open In Colab\"/></a>"
      ]
    },
    {
      "cell_type": "code",
      "execution_count": 1,
      "metadata": {
        "id": "ZFKUQ5GZWMEz"
      },
      "outputs": [],
      "source": [
        "import os\n",
        "from tensorflow import keras\n",
        "from tensorflow.keras.preprocessing.image import ImageDataGenerator\n",
        "\n",
        "from tensorflow.keras.models import Sequential\n",
        "from tensorflow.keras.layers import Dense, Dropout\n",
        "from tensorflow.keras.layers import Conv2D, MaxPooling2D, Flatten\n",
        "from matplotlib.cbook import flatten\n",
        "\n",
        "import numpy as np\n",
        "import tensorflow as tf"
      ]
    },
    {
      "cell_type": "code",
      "source": [
        "train_dir = '/content/drive/MyDrive/catdog/train/train'\n",
        "test_dir = 'drive/MyDrive/Colab Notebooks/dogs_vs_cats_small/test'\n",
        "validation_dir = 'drive/MyDrive/Colab Notebooks/dogs_vs_cats_small/validation'\n",
        "\n",
        "train_dogs_dir = '/content/drive/MyDrive/catdog/train/train/dogs'\n",
        "train_cats_dir = '/content/drive/MyDrive/catdog/train/train/cats'\n",
        "\n",
        "test_dogs_dir = 'drive/MyDrive/Colab Notebooks/dogs_vs_cats_small/test/dogs'\n",
        "test_cats_dir = 'drive/MyDrive/Colab Notebooks/dogs_vs_cats_small/test/cats'\n",
        "\n",
        "validation_dogs_dir = '/content/drive/MyDrive/Colab Notebooks/dogs_vs_cats_small/validation/dogs'\n",
        "validation_cats_dir = '/content/drive/MyDrive/Colab Notebooks/dogs_vs_cats_small/validation/cats'"
      ],
      "metadata": {
        "id": "SWFX09eJWXrT"
      },
      "execution_count": 2,
      "outputs": []
    },
    {
      "cell_type": "code",
      "source": [
        "#listdir() 해당폴더에 있는 파일을 가져온다\n",
        "print(\"훈련 개 데이터 수 : {}\".format(len(os.listdir(train_dogs_dir))))\n",
        "print(\"훈련 고양이 데이터 수 : {}\".format(len(os.listdir(train_cats_dir))))\n",
        "\n",
        "print(\"테스트 개 데이터 수 : {}\".format(len(os.listdir(test_dogs_dir))))\n",
        "print(\"테스트 고양이 데이터 수 : {}\".format(len(os.listdir(test_cats_dir))))\n",
        "\n",
        "print(\"검증 개 데이터 수 : {}\".format(len(os.listdir(validation_dogs_dir))))\n",
        "print(\"검증 고양이 데이터 수 : {}\".format(len(os.listdir(validation_cats_dir))))"
      ],
      "metadata": {
        "colab": {
          "base_uri": "https://localhost:8080/"
        },
        "id": "mXpieyzYWcIq",
        "outputId": "6804e368-9182-47af-d40b-7efafffdc4c1"
      },
      "execution_count": 3,
      "outputs": [
        {
          "output_type": "stream",
          "name": "stdout",
          "text": [
            "훈련 개 데이터 수 : 12500\n",
            "훈련 고양이 데이터 수 : 12500\n",
            "테스트 개 데이터 수 : 500\n",
            "테스트 고양이 데이터 수 : 500\n",
            "검증 개 데이터 수 : 1000\n",
            "검증 고양이 데이터 수 : 1000\n"
          ]
        }
      ]
    },
    {
      "cell_type": "code",
      "source": [
        "#스케일링\n",
        "train_gen = ImageDataGenerator( rescale = 1./255)\n",
        "val_gen = ImageDataGenerator( rescale = 1./255)\n",
        "test_gen = ImageDataGenerator( rescale = 1./255)"
      ],
      "metadata": {
        "id": "zjF6ZuxbWgN8"
      },
      "execution_count": 4,
      "outputs": []
    },
    {
      "cell_type": "code",
      "source": [
        "# flow_from_directory: 폴더에서 이미지 가져오기\n",
        "# 폴더명, 이미지 크기, 한번에 변환 할 이미지 수, 라벨링 모드\n",
        "# 이진분류 = binary, 다중 분류 = categorical \n",
        "# 라벨 번호는 0부터 시작(cat은 0, dog는 1)\n",
        "train_generator = train_gen.flow_from_directory(train_dir,\n",
        "                              target_size =(64,64),\n",
        "                              batch_size=32,\n",
        "                              class_mode = 'binary')\n",
        "val_generator = val_gen.flow_from_directory( validation_dir,\n",
        "                            target_size = (64,64),\n",
        "                            batch_size=32,\n",
        "                            class_mode =  'binary')\n",
        "test_generator = test_gen.flow_from_directory( test_dir,\n",
        "                            target_size = (64,64),\n",
        "                            batch_size=32,\n",
        "                            class_mode =  'binary')"
      ],
      "metadata": {
        "colab": {
          "base_uri": "https://localhost:8080/"
        },
        "id": "_k9WPZQLWhus",
        "outputId": "52d3c6ba-d62b-494e-cbb0-a30de02c49e9"
      },
      "execution_count": 5,
      "outputs": [
        {
          "output_type": "stream",
          "name": "stdout",
          "text": [
            "Found 25000 images belonging to 2 classes.\n",
            "Found 2000 images belonging to 2 classes.\n",
            "Found 1000 images belonging to 2 classes.\n"
          ]
        }
      ]
    },
    {
      "cell_type": "code",
      "source": [
        "seed = 0\n",
        "np.random.seed(seed)\n",
        "tf.random.set_seed(seed)"
      ],
      "metadata": {
        "id": "vZSa3RGiW2yl"
      },
      "execution_count": 6,
      "outputs": []
    },
    {
      "cell_type": "code",
      "source": [
        "c_model = Sequential()\n",
        "\n",
        "# 입력층(CNN)\n",
        "# 특징을 도드라지게 해준다\n",
        "c_model.add(Conv2D(filters = 32, # 사진에서 찾을 특성 개수\n",
        "                   kernel_size = (3,3), # 한번에 확인할 픽셀의 수\n",
        "                   input_shape = (64,64,3), # 입력 데이터의 크기\n",
        "                   padding = 'same', # 가장 자리를 0으로 채움 \n",
        "                  # same : 입력데이터의 크기와 동일하게 맞춰준다\n",
        "                   activation = 'relu'))\n",
        "#불필요한 부분 삭제\n",
        "c_model.add(MaxPooling2D(pool_size = (2,2),strides=2))\n",
        "\n",
        "c_model.add(Conv2D(filters = 32, # 사진에서 찾을 특성 개수\n",
        "                   kernel_size = (3,3), # 한번에 확인할 픽셀의 수\n",
        "                   input_shape = (64,64,3), # 입력 데이터의 크기\n",
        "                   padding = 'same', # 가장 자리를 0으로 채움(입력이미지크기=출력이미지크기)\n",
        "                  # same : 입력데이터의 크기와 동일하게 맞춰준다\n",
        "                   activation = 'relu'))\n",
        "\n",
        "c_model.add(MaxPooling2D(pool_size = (2,2),strides=2))\n",
        "\n",
        "# 1차원으로 데이터 축소\n",
        "c_model.add(Flatten())\n",
        "\n",
        "#은닉층\n",
        "c_model.add(Dense(units=128, activation = 'relu'))\n",
        "\n",
        "#출력층\n",
        "c_model.add(Dense(units=1, activation= 'sigmoid'))\n",
        "\n",
        "c_model.summary()"
      ],
      "metadata": {
        "colab": {
          "base_uri": "https://localhost:8080/"
        },
        "id": "jgRGzWPYW6fL",
        "outputId": "3f5776c2-62fe-4cea-eb37-a7afeddcd8b3"
      },
      "execution_count": 7,
      "outputs": [
        {
          "output_type": "stream",
          "name": "stdout",
          "text": [
            "Model: \"sequential\"\n",
            "_________________________________________________________________\n",
            " Layer (type)                Output Shape              Param #   \n",
            "=================================================================\n",
            " conv2d (Conv2D)             (None, 64, 64, 32)        896       \n",
            "                                                                 \n",
            " max_pooling2d (MaxPooling2D  (None, 32, 32, 32)       0         \n",
            " )                                                               \n",
            "                                                                 \n",
            " conv2d_1 (Conv2D)           (None, 32, 32, 32)        9248      \n",
            "                                                                 \n",
            " max_pooling2d_1 (MaxPooling  (None, 16, 16, 32)       0         \n",
            " 2D)                                                             \n",
            "                                                                 \n",
            " flatten (Flatten)           (None, 8192)              0         \n",
            "                                                                 \n",
            " dense (Dense)               (None, 128)               1048704   \n",
            "                                                                 \n",
            " dense_1 (Dense)             (None, 1)                 129       \n",
            "                                                                 \n",
            "=================================================================\n",
            "Total params: 1,058,977\n",
            "Trainable params: 1,058,977\n",
            "Non-trainable params: 0\n",
            "_________________________________________________________________\n"
          ]
        }
      ]
    },
    {
      "cell_type": "code",
      "source": [
        "adam = keras.optimizers.Adam(lr=0.001, beta_1=0.9, beta_2=0.999, epsilon=None, decay=0.0, amsgrad=False)\n",
        "c_model.compile(loss='binary_crossentropy',\n",
        "                optimizer = adam,\n",
        "                metrics=['accuracy'])\n",
        "c_histroy = c_model.fit_generator(generator=train_generator,\n",
        "            steps_per_epoch=200,\n",
        "            epochs=100,\n",
        "            validation_data = val_generator,\n",
        "            validation_steps = 2)"
      ],
      "metadata": {
        "colab": {
          "base_uri": "https://localhost:8080/"
        },
        "id": "2RHQrW_dWuuz",
        "outputId": "b676ffbc-75eb-4985-91fc-4c7fbc66d834"
      },
      "execution_count": 8,
      "outputs": [
        {
          "output_type": "stream",
          "name": "stderr",
          "text": [
            "/usr/local/lib/python3.7/dist-packages/keras/optimizer_v2/adam.py:105: UserWarning: The `lr` argument is deprecated, use `learning_rate` instead.\n",
            "  super(Adam, self).__init__(name, **kwargs)\n",
            "/usr/local/lib/python3.7/dist-packages/ipykernel_launcher.py:9: UserWarning: `Model.fit_generator` is deprecated and will be removed in a future version. Please use `Model.fit`, which supports generators.\n",
            "  if __name__ == '__main__':\n"
          ]
        },
        {
          "output_type": "stream",
          "name": "stdout",
          "text": [
            "Epoch 1/100\n",
            "200/200 [==============================] - 836s 4s/step - loss: 0.6653 - accuracy: 0.5939 - val_loss: 0.5517 - val_accuracy: 0.7344\n",
            "Epoch 2/100\n",
            "200/200 [==============================] - 463s 2s/step - loss: 0.5756 - accuracy: 0.7022 - val_loss: 0.5368 - val_accuracy: 0.7812\n",
            "Epoch 3/100\n",
            "200/200 [==============================] - 367s 2s/step - loss: 0.5406 - accuracy: 0.7262 - val_loss: 0.4681 - val_accuracy: 0.7500\n",
            "Epoch 4/100\n",
            "200/200 [==============================] - 281s 1s/step - loss: 0.5170 - accuracy: 0.7508 - val_loss: 0.4353 - val_accuracy: 0.7812\n",
            "Epoch 5/100\n",
            "200/200 [==============================] - 217s 1s/step - loss: 0.4912 - accuracy: 0.7609 - val_loss: 0.4963 - val_accuracy: 0.7188\n",
            "Epoch 6/100\n",
            "200/200 [==============================] - 187s 935ms/step - loss: 0.4708 - accuracy: 0.7756 - val_loss: 0.4068 - val_accuracy: 0.7969\n",
            "Epoch 7/100\n",
            "200/200 [==============================] - 140s 701ms/step - loss: 0.4357 - accuracy: 0.7977 - val_loss: 0.4113 - val_accuracy: 0.8125\n",
            "Epoch 8/100\n",
            "200/200 [==============================] - 121s 604ms/step - loss: 0.4212 - accuracy: 0.8080 - val_loss: 0.4232 - val_accuracy: 0.7812\n",
            "Epoch 9/100\n",
            "200/200 [==============================] - 106s 530ms/step - loss: 0.3989 - accuracy: 0.8145 - val_loss: 0.3485 - val_accuracy: 0.8281\n",
            "Epoch 10/100\n",
            "200/200 [==============================] - 112s 559ms/step - loss: 0.3856 - accuracy: 0.8267 - val_loss: 0.5154 - val_accuracy: 0.7188\n",
            "Epoch 11/100\n",
            "200/200 [==============================] - 91s 457ms/step - loss: 0.3809 - accuracy: 0.8281 - val_loss: 0.2981 - val_accuracy: 0.8906\n",
            "Epoch 12/100\n",
            "200/200 [==============================] - 82s 411ms/step - loss: 0.3715 - accuracy: 0.8355 - val_loss: 0.3450 - val_accuracy: 0.8750\n",
            "Epoch 13/100\n",
            "200/200 [==============================] - 77s 384ms/step - loss: 0.3397 - accuracy: 0.8548 - val_loss: 0.2764 - val_accuracy: 0.8750\n",
            "Epoch 14/100\n",
            "200/200 [==============================] - 74s 369ms/step - loss: 0.3371 - accuracy: 0.8511 - val_loss: 0.2109 - val_accuracy: 0.9219\n",
            "Epoch 15/100\n",
            "200/200 [==============================] - 71s 357ms/step - loss: 0.3200 - accuracy: 0.8570 - val_loss: 0.3526 - val_accuracy: 0.8594\n",
            "Epoch 16/100\n",
            "200/200 [==============================] - 68s 340ms/step - loss: 0.3013 - accuracy: 0.8720 - val_loss: 0.2125 - val_accuracy: 0.9219\n",
            "Epoch 17/100\n",
            "200/200 [==============================] - 74s 369ms/step - loss: 0.2808 - accuracy: 0.8839 - val_loss: 0.2353 - val_accuracy: 0.9062\n",
            "Epoch 18/100\n",
            "200/200 [==============================] - 65s 322ms/step - loss: 0.2612 - accuracy: 0.8911 - val_loss: 0.1737 - val_accuracy: 0.9375\n",
            "Epoch 19/100\n",
            "200/200 [==============================] - 66s 330ms/step - loss: 0.2525 - accuracy: 0.8998 - val_loss: 0.2432 - val_accuracy: 0.8906\n",
            "Epoch 20/100\n",
            "200/200 [==============================] - 64s 322ms/step - loss: 0.2285 - accuracy: 0.9070 - val_loss: 0.1461 - val_accuracy: 0.9688\n",
            "Epoch 21/100\n",
            "200/200 [==============================] - 62s 308ms/step - loss: 0.2116 - accuracy: 0.9164 - val_loss: 0.2109 - val_accuracy: 0.8906\n",
            "Epoch 22/100\n",
            "200/200 [==============================] - 66s 331ms/step - loss: 0.1917 - accuracy: 0.9248 - val_loss: 0.1338 - val_accuracy: 0.9688\n",
            "Epoch 23/100\n",
            "200/200 [==============================] - 64s 317ms/step - loss: 0.1821 - accuracy: 0.9297 - val_loss: 0.1262 - val_accuracy: 0.9688\n",
            "Epoch 24/100\n",
            "200/200 [==============================] - 60s 298ms/step - loss: 0.1650 - accuracy: 0.9400 - val_loss: 0.1958 - val_accuracy: 0.9062\n",
            "Epoch 25/100\n",
            "200/200 [==============================] - 60s 301ms/step - loss: 0.1566 - accuracy: 0.9433 - val_loss: 0.0768 - val_accuracy: 0.9844\n",
            "Epoch 26/100\n",
            "200/200 [==============================] - 61s 303ms/step - loss: 0.1384 - accuracy: 0.9519 - val_loss: 0.2911 - val_accuracy: 0.9062\n",
            "Epoch 27/100\n",
            "200/200 [==============================] - 60s 298ms/step - loss: 0.1264 - accuracy: 0.9555 - val_loss: 0.1233 - val_accuracy: 0.9375\n",
            "Epoch 28/100\n",
            "200/200 [==============================] - 61s 306ms/step - loss: 0.1316 - accuracy: 0.9536 - val_loss: 0.0969 - val_accuracy: 0.9688\n",
            "Epoch 29/100\n",
            "200/200 [==============================] - 70s 351ms/step - loss: 0.1149 - accuracy: 0.9584 - val_loss: 0.1229 - val_accuracy: 0.9375\n",
            "Epoch 30/100\n",
            "200/200 [==============================] - 62s 309ms/step - loss: 0.0929 - accuracy: 0.9673 - val_loss: 0.1183 - val_accuracy: 0.9688\n",
            "Epoch 31/100\n",
            "200/200 [==============================] - 68s 339ms/step - loss: 0.0771 - accuracy: 0.9744 - val_loss: 0.0720 - val_accuracy: 0.9688\n",
            "Epoch 32/100\n",
            "200/200 [==============================] - 61s 305ms/step - loss: 0.0731 - accuracy: 0.9766 - val_loss: 0.1202 - val_accuracy: 0.9531\n",
            "Epoch 33/100\n",
            "200/200 [==============================] - 60s 300ms/step - loss: 0.0729 - accuracy: 0.9767 - val_loss: 0.0612 - val_accuracy: 0.9844\n",
            "Epoch 34/100\n",
            "200/200 [==============================] - 60s 297ms/step - loss: 0.0623 - accuracy: 0.9796 - val_loss: 0.0428 - val_accuracy: 0.9844\n",
            "Epoch 35/100\n",
            "200/200 [==============================] - 61s 303ms/step - loss: 0.0575 - accuracy: 0.9814 - val_loss: 0.0270 - val_accuracy: 0.9844\n",
            "Epoch 36/100\n",
            "200/200 [==============================] - 60s 300ms/step - loss: 0.0581 - accuracy: 0.9812 - val_loss: 0.0579 - val_accuracy: 0.9688\n",
            "Epoch 37/100\n",
            "200/200 [==============================] - 61s 304ms/step - loss: 0.0543 - accuracy: 0.9809 - val_loss: 0.1089 - val_accuracy: 0.9375\n",
            "Epoch 38/100\n",
            "200/200 [==============================] - 63s 317ms/step - loss: 0.0474 - accuracy: 0.9855 - val_loss: 0.0366 - val_accuracy: 0.9844\n",
            "Epoch 39/100\n",
            "200/200 [==============================] - 59s 294ms/step - loss: 0.0387 - accuracy: 0.9879 - val_loss: 0.0901 - val_accuracy: 0.9688\n",
            "Epoch 40/100\n",
            "200/200 [==============================] - 61s 305ms/step - loss: 0.0436 - accuracy: 0.9855 - val_loss: 0.0451 - val_accuracy: 0.9688\n",
            "Epoch 41/100\n",
            "200/200 [==============================] - 58s 292ms/step - loss: 0.0328 - accuracy: 0.9894 - val_loss: 0.0528 - val_accuracy: 0.9688\n",
            "Epoch 42/100\n",
            "200/200 [==============================] - 59s 296ms/step - loss: 0.0405 - accuracy: 0.9889 - val_loss: 0.0133 - val_accuracy: 1.0000\n",
            "Epoch 43/100\n",
            "200/200 [==============================] - 60s 298ms/step - loss: 0.0277 - accuracy: 0.9927 - val_loss: 0.0107 - val_accuracy: 1.0000\n",
            "Epoch 44/100\n",
            "200/200 [==============================] - 60s 300ms/step - loss: 0.0379 - accuracy: 0.9877 - val_loss: 0.0986 - val_accuracy: 0.9688\n",
            "Epoch 45/100\n",
            "200/200 [==============================] - 60s 301ms/step - loss: 0.0405 - accuracy: 0.9864 - val_loss: 0.0568 - val_accuracy: 0.9844\n",
            "Epoch 46/100\n",
            "200/200 [==============================] - 59s 296ms/step - loss: 0.0263 - accuracy: 0.9920 - val_loss: 0.0679 - val_accuracy: 0.9844\n",
            "Epoch 47/100\n",
            "200/200 [==============================] - 59s 296ms/step - loss: 0.0297 - accuracy: 0.9906 - val_loss: 0.0376 - val_accuracy: 0.9844\n",
            "Epoch 48/100\n",
            "200/200 [==============================] - 58s 291ms/step - loss: 0.0333 - accuracy: 0.9880 - val_loss: 0.0435 - val_accuracy: 0.9844\n",
            "Epoch 49/100\n",
            "200/200 [==============================] - 60s 301ms/step - loss: 0.0281 - accuracy: 0.9916 - val_loss: 0.0221 - val_accuracy: 0.9844\n",
            "Epoch 50/100\n",
            "200/200 [==============================] - 59s 295ms/step - loss: 0.0300 - accuracy: 0.9900 - val_loss: 0.0052 - val_accuracy: 1.0000\n",
            "Epoch 51/100\n",
            "200/200 [==============================] - 59s 294ms/step - loss: 0.0253 - accuracy: 0.9925 - val_loss: 0.0025 - val_accuracy: 1.0000\n",
            "Epoch 52/100\n",
            "200/200 [==============================] - 60s 297ms/step - loss: 0.0245 - accuracy: 0.9916 - val_loss: 0.0034 - val_accuracy: 1.0000\n",
            "Epoch 53/100\n",
            "200/200 [==============================] - 59s 297ms/step - loss: 0.0309 - accuracy: 0.9880 - val_loss: 0.0124 - val_accuracy: 1.0000\n",
            "Epoch 54/100\n",
            "200/200 [==============================] - 59s 292ms/step - loss: 0.0260 - accuracy: 0.9909 - val_loss: 0.0392 - val_accuracy: 0.9844\n",
            "Epoch 55/100\n",
            "200/200 [==============================] - 59s 295ms/step - loss: 0.0238 - accuracy: 0.9911 - val_loss: 0.0048 - val_accuracy: 1.0000\n",
            "Epoch 56/100\n",
            "200/200 [==============================] - 59s 295ms/step - loss: 0.0218 - accuracy: 0.9939 - val_loss: 0.0036 - val_accuracy: 1.0000\n",
            "Epoch 57/100\n",
            "200/200 [==============================] - 60s 299ms/step - loss: 0.0344 - accuracy: 0.9875 - val_loss: 0.0180 - val_accuracy: 0.9844\n",
            "Epoch 58/100\n",
            "200/200 [==============================] - 58s 290ms/step - loss: 0.0308 - accuracy: 0.9901 - val_loss: 0.0398 - val_accuracy: 0.9688\n",
            "Epoch 59/100\n",
            "200/200 [==============================] - 58s 291ms/step - loss: 0.0118 - accuracy: 0.9961 - val_loss: 0.0407 - val_accuracy: 0.9844\n",
            "Epoch 60/100\n",
            "200/200 [==============================] - 58s 291ms/step - loss: 0.0227 - accuracy: 0.9928 - val_loss: 0.0619 - val_accuracy: 0.9688\n",
            "Epoch 61/100\n",
            "200/200 [==============================] - 59s 294ms/step - loss: 0.0232 - accuracy: 0.9941 - val_loss: 0.0166 - val_accuracy: 0.9844\n",
            "Epoch 62/100\n",
            "200/200 [==============================] - 58s 289ms/step - loss: 0.0291 - accuracy: 0.9914 - val_loss: 0.0030 - val_accuracy: 1.0000\n",
            "Epoch 63/100\n",
            "200/200 [==============================] - 59s 294ms/step - loss: 0.0360 - accuracy: 0.9892 - val_loss: 0.0432 - val_accuracy: 0.9844\n",
            "Epoch 64/100\n",
            "200/200 [==============================] - 58s 289ms/step - loss: 0.0206 - accuracy: 0.9936 - val_loss: 9.6570e-04 - val_accuracy: 1.0000\n",
            "Epoch 65/100\n",
            "200/200 [==============================] - 58s 288ms/step - loss: 0.0123 - accuracy: 0.9959 - val_loss: 0.0181 - val_accuracy: 0.9844\n",
            "Epoch 66/100\n",
            "200/200 [==============================] - 64s 318ms/step - loss: 0.0113 - accuracy: 0.9962 - val_loss: 0.0035 - val_accuracy: 1.0000\n",
            "Epoch 67/100\n",
            "200/200 [==============================] - 59s 294ms/step - loss: 0.0219 - accuracy: 0.9930 - val_loss: 0.0067 - val_accuracy: 1.0000\n",
            "Epoch 68/100\n",
            "200/200 [==============================] - 59s 293ms/step - loss: 0.0221 - accuracy: 0.9922 - val_loss: 0.0057 - val_accuracy: 1.0000\n",
            "Epoch 69/100\n",
            "200/200 [==============================] - 60s 300ms/step - loss: 0.0180 - accuracy: 0.9941 - val_loss: 0.0013 - val_accuracy: 1.0000\n",
            "Epoch 70/100\n",
            "200/200 [==============================] - 61s 305ms/step - loss: 0.0155 - accuracy: 0.9930 - val_loss: 0.0016 - val_accuracy: 1.0000\n",
            "Epoch 71/100\n",
            "200/200 [==============================] - 59s 294ms/step - loss: 0.0121 - accuracy: 0.9966 - val_loss: 0.0514 - val_accuracy: 0.9688\n",
            "Epoch 72/100\n",
            "200/200 [==============================] - 59s 293ms/step - loss: 0.0164 - accuracy: 0.9948 - val_loss: 0.1016 - val_accuracy: 0.9531\n",
            "Epoch 73/100\n",
            "200/200 [==============================] - 58s 288ms/step - loss: 0.0241 - accuracy: 0.9920 - val_loss: 0.0058 - val_accuracy: 1.0000\n",
            "Epoch 74/100\n",
            "200/200 [==============================] - 57s 287ms/step - loss: 0.0287 - accuracy: 0.9904 - val_loss: 0.0141 - val_accuracy: 1.0000\n",
            "Epoch 75/100\n",
            "200/200 [==============================] - 57s 286ms/step - loss: 0.0160 - accuracy: 0.9948 - val_loss: 0.0168 - val_accuracy: 0.9844\n",
            "Epoch 76/100\n",
            "200/200 [==============================] - 58s 288ms/step - loss: 0.0168 - accuracy: 0.9939 - val_loss: 0.0093 - val_accuracy: 1.0000\n",
            "Epoch 77/100\n",
            "200/200 [==============================] - 57s 286ms/step - loss: 0.0165 - accuracy: 0.9955 - val_loss: 0.0047 - val_accuracy: 1.0000\n",
            "Epoch 78/100\n",
            "200/200 [==============================] - 57s 286ms/step - loss: 0.0319 - accuracy: 0.9902 - val_loss: 0.2225 - val_accuracy: 0.9531\n",
            "Epoch 79/100\n",
            "200/200 [==============================] - 58s 289ms/step - loss: 0.0280 - accuracy: 0.9897 - val_loss: 0.0031 - val_accuracy: 1.0000\n",
            "Epoch 80/100\n",
            "200/200 [==============================] - 58s 288ms/step - loss: 0.0182 - accuracy: 0.9933 - val_loss: 0.0020 - val_accuracy: 1.0000\n",
            "Epoch 81/100\n",
            "200/200 [==============================] - 57s 285ms/step - loss: 0.0079 - accuracy: 0.9977 - val_loss: 5.6486e-04 - val_accuracy: 1.0000\n",
            "Epoch 82/100\n",
            "200/200 [==============================] - 57s 286ms/step - loss: 0.0061 - accuracy: 0.9981 - val_loss: 0.0011 - val_accuracy: 1.0000\n",
            "Epoch 83/100\n",
            "200/200 [==============================] - 58s 290ms/step - loss: 0.0136 - accuracy: 0.9958 - val_loss: 0.0016 - val_accuracy: 1.0000\n",
            "Epoch 84/100\n",
            "200/200 [==============================] - 58s 289ms/step - loss: 0.0194 - accuracy: 0.9928 - val_loss: 0.0037 - val_accuracy: 1.0000\n",
            "Epoch 85/100\n",
            "200/200 [==============================] - 57s 286ms/step - loss: 0.0099 - accuracy: 0.9959 - val_loss: 3.4732e-04 - val_accuracy: 1.0000\n",
            "Epoch 86/100\n",
            "200/200 [==============================] - 58s 287ms/step - loss: 0.0074 - accuracy: 0.9975 - val_loss: 0.0014 - val_accuracy: 1.0000\n",
            "Epoch 87/100\n",
            "200/200 [==============================] - 58s 289ms/step - loss: 0.0057 - accuracy: 0.9980 - val_loss: 0.0057 - val_accuracy: 1.0000\n",
            "Epoch 88/100\n",
            "200/200 [==============================] - 58s 288ms/step - loss: 0.0221 - accuracy: 0.9922 - val_loss: 0.0137 - val_accuracy: 0.9844\n",
            "Epoch 89/100\n",
            "200/200 [==============================] - 58s 290ms/step - loss: 0.0098 - accuracy: 0.9965 - val_loss: 0.0232 - val_accuracy: 0.9844\n",
            "Epoch 90/100\n",
            "200/200 [==============================] - 58s 288ms/step - loss: 0.0187 - accuracy: 0.9953 - val_loss: 2.4261e-04 - val_accuracy: 1.0000\n",
            "Epoch 91/100\n",
            "200/200 [==============================] - 57s 285ms/step - loss: 0.0118 - accuracy: 0.9956 - val_loss: 0.1312 - val_accuracy: 0.9844\n",
            "Epoch 92/100\n",
            "200/200 [==============================] - 58s 291ms/step - loss: 0.0145 - accuracy: 0.9948 - val_loss: 0.0402 - val_accuracy: 0.9844\n",
            "Epoch 93/100\n",
            "200/200 [==============================] - 57s 285ms/step - loss: 0.0332 - accuracy: 0.9897 - val_loss: 0.0237 - val_accuracy: 0.9844\n",
            "Epoch 94/100\n",
            "200/200 [==============================] - 58s 290ms/step - loss: 0.0164 - accuracy: 0.9950 - val_loss: 0.0024 - val_accuracy: 1.0000\n",
            "Epoch 95/100\n",
            "200/200 [==============================] - 57s 283ms/step - loss: 0.0185 - accuracy: 0.9945 - val_loss: 0.0124 - val_accuracy: 0.9844\n",
            "Epoch 96/100\n",
            "200/200 [==============================] - 58s 288ms/step - loss: 0.0211 - accuracy: 0.9933 - val_loss: 0.1139 - val_accuracy: 0.9844\n",
            "Epoch 97/100\n",
            "200/200 [==============================] - 57s 286ms/step - loss: 0.0146 - accuracy: 0.9950 - val_loss: 0.0941 - val_accuracy: 0.9844\n",
            "Epoch 98/100\n",
            "200/200 [==============================] - 60s 298ms/step - loss: 0.0074 - accuracy: 0.9977 - val_loss: 2.6558e-04 - val_accuracy: 1.0000\n",
            "Epoch 99/100\n",
            "200/200 [==============================] - 58s 287ms/step - loss: 0.0150 - accuracy: 0.9952 - val_loss: 0.0013 - val_accuracy: 1.0000\n",
            "Epoch 100/100\n",
            "200/200 [==============================] - 57s 287ms/step - loss: 0.0125 - accuracy: 0.9964 - val_loss: 0.0017 - val_accuracy: 1.0000\n"
          ]
        }
      ]
    },
    {
      "cell_type": "code",
      "source": [
        "import matplotlib.pyplot as plt\n",
        "acc = c_histroy.history['accuracy']\n",
        "val_acc = c_histroy.history['val_accuracy']\n",
        "\n",
        "epoch = range(1, len(acc)+1) #정확도의 개수\n",
        "\n",
        "plt.plot(epoch, acc, c='red', label = 'Train acc') # 훈련 데이터 정확도\n",
        "plt.plot(epoch, val_acc, c= 'blue', label = 'val acc') # 검증 데이터 정확도\n",
        "plt.legend() #범례\n",
        "plt.plot()"
      ],
      "metadata": {
        "colab": {
          "base_uri": "https://localhost:8080/",
          "height": 284
        },
        "id": "uUcEwlWDlN-p",
        "outputId": "5f3eace5-fa6d-4b82-af2c-d15536fe30e8"
      },
      "execution_count": 9,
      "outputs": [
        {
          "output_type": "execute_result",
          "data": {
            "text/plain": [
              "[]"
            ]
          },
          "metadata": {},
          "execution_count": 9
        },
        {
          "output_type": "display_data",
          "data": {
            "text/plain": [
              "<Figure size 432x288 with 1 Axes>"
            ],
            "image/png": "[encoded data removed]"
          },
          "metadata": {
            "needs_background": "light"
          }
        }
      ]
    }
  ]
}