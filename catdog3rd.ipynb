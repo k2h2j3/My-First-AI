{
  "nbformat": 4,
  "nbformat_minor": 0,
  "metadata": {
    "colab": {
      "name": "catdog3rd.ipynb",
      "provenance": [],
      "collapsed_sections": [],
      "mount_file_id": "1vIznrrbqJL3OXV3dAkd67JSsgbq7Ry5m",
      "authorship_tag": "ABX9TyPh32td++eBvRU3qEGqwKyI",
      "include_colab_link": true
    },
    "kernelspec": {
      "name": "python3",
      "display_name": "Python 3"
    },
    "language_info": {
      "name": "python"
    }
  },
  "cells": [
    {
      "cell_type": "markdown",
      "metadata": {
        "id": "view-in-github",
        "colab_type": "text"
      },
      "source": [
        "<a href=\"https://colab.research.google.com/github/k2h2j3/My-First-AI/blob/master/catdog3rd.ipynb\" target=\"_parent\"><img src=\"https://colab.research.google.com/assets/colab-badge.svg\" alt=\"Open In Colab\"/></a>"
      ]
    },
    {
      "cell_type": "code",
      "execution_count": 1,
      "metadata": {
        "id": "ZFKUQ5GZWMEz"
      },
      "outputs": [],
      "source": [
        "import os\n",
        "from tensorflow import keras\n",
        "from tensorflow.keras.preprocessing.image import ImageDataGenerator\n",
        "\n",
        "from tensorflow.keras.models import Sequential\n",
        "from tensorflow.keras.layers import Dense, Dropout\n",
        "from tensorflow.keras.layers import Conv2D, MaxPooling2D, Flatten\n",
        "from matplotlib.cbook import flatten\n",
        "\n",
        "import numpy as np\n",
        "import tensorflow as tf"
      ]
    },
    {
      "cell_type": "code",
      "source": [
        "train_dir = '/content/drive/MyDrive/catdog/train/train'\n",
        "test_dir = 'drive/MyDrive/Colab Notebooks/dogs_vs_cats_small/test'\n",
        "validation_dir = 'drive/MyDrive/Colab Notebooks/dogs_vs_cats_small/validation'\n",
        "\n",
        "train_dogs_dir = '/content/drive/MyDrive/catdog/train/train/dogs'\n",
        "train_cats_dir = '/content/drive/MyDrive/catdog/train/train/cats'\n",
        "\n",
        "test_dogs_dir = 'drive/MyDrive/Colab Notebooks/dogs_vs_cats_small/test/dogs'\n",
        "test_cats_dir = 'drive/MyDrive/Colab Notebooks/dogs_vs_cats_small/test/cats'\n",
        "\n",
        "validation_dogs_dir = '/content/drive/MyDrive/Colab Notebooks/dogs_vs_cats_small/validation/dogs'\n",
        "validation_cats_dir = '/content/drive/MyDrive/Colab Notebooks/dogs_vs_cats_small/validation/cats'"
      ],
      "metadata": {
        "id": "SWFX09eJWXrT"
      },
      "execution_count": 2,
      "outputs": []
    },
    {
      "cell_type": "code",
      "source": [
        "#listdir() 해당폴더에 있는 파일을 가져온다\n",
        "print(\"훈련 개 데이터 수 : {}\".format(len(os.listdir(train_dogs_dir))))\n",
        "print(\"훈련 고양이 데이터 수 : {}\".format(len(os.listdir(train_cats_dir))))\n",
        "\n",
        "print(\"테스트 개 데이터 수 : {}\".format(len(os.listdir(test_dogs_dir))))\n",
        "print(\"테스트 고양이 데이터 수 : {}\".format(len(os.listdir(test_cats_dir))))\n",
        "\n",
        "print(\"검증 개 데이터 수 : {}\".format(len(os.listdir(validation_dogs_dir))))\n",
        "print(\"검증 고양이 데이터 수 : {}\".format(len(os.listdir(validation_cats_dir))))"
      ],
      "metadata": {
        "colab": {
          "base_uri": "https://localhost:8080/"
        },
        "id": "mXpieyzYWcIq",
        "outputId": "e465ae0a-786a-4bea-cd03-d6192173927b"
      },
      "execution_count": 3,
      "outputs": [
        {
          "output_type": "stream",
          "name": "stdout",
          "text": [
            "훈련 개 데이터 수 : 12500\n",
            "훈련 고양이 데이터 수 : 12500\n",
            "테스트 개 데이터 수 : 500\n",
            "테스트 고양이 데이터 수 : 500\n",
            "검증 개 데이터 수 : 1000\n",
            "검증 고양이 데이터 수 : 1000\n"
          ]
        }
      ]
    },
    {
      "cell_type": "code",
      "source": [
        "#스케일링\n",
        "train_gen = ImageDataGenerator( rescale = 1./255)\n",
        "val_gen = ImageDataGenerator( rescale = 1./255)\n",
        "test_gen = ImageDataGenerator( rescale = 1./255)"
      ],
      "metadata": {
        "id": "zjF6ZuxbWgN8"
      },
      "execution_count": 4,
      "outputs": []
    },
    {
      "cell_type": "code",
      "source": [
        "# flow_from_directory: 폴더에서 이미지 가져오기\n",
        "# 폴더명, 이미지 크기, 한번에 변환 할 이미지 수, 라벨링 모드\n",
        "# 이진분류 = binary, 다중 분류 = categorical \n",
        "# 라벨 번호는 0부터 시작(cat은 0, dog는 1)\n",
        "train_generator = train_gen.flow_from_directory(train_dir,\n",
        "                              target_size =(64,64),\n",
        "                              batch_size=32,\n",
        "                              class_mode = 'binary')\n",
        "val_generator = val_gen.flow_from_directory( validation_dir,\n",
        "                            target_size = (64,64),\n",
        "                            batch_size=32,\n",
        "                            class_mode =  'binary')\n",
        "test_generator = test_gen.flow_from_directory( test_dir,\n",
        "                            target_size = (64,64),\n",
        "                            batch_size=32,\n",
        "                            class_mode =  'binary')"
      ],
      "metadata": {
        "colab": {
          "base_uri": "https://localhost:8080/"
        },
        "id": "_k9WPZQLWhus",
        "outputId": "17d0effa-b35b-4bf3-cb4c-3d760832f1de"
      },
      "execution_count": 5,
      "outputs": [
        {
          "output_type": "stream",
          "name": "stdout",
          "text": [
            "Found 25000 images belonging to 2 classes.\n",
            "Found 2000 images belonging to 2 classes.\n",
            "Found 1000 images belonging to 2 classes.\n"
          ]
        }
      ]
    },
    {
      "cell_type": "code",
      "source": [
        "seed = 0\n",
        "np.random.seed(seed)\n",
        "tf.random.set_seed(seed)"
      ],
      "metadata": {
        "id": "vZSa3RGiW2yl"
      },
      "execution_count": 7,
      "outputs": []
    },
    {
      "cell_type": "code",
      "source": [
        "c_model = Sequential()\n",
        "\n",
        "# 입력층(CNN)\n",
        "# 특징을 도드라지게 해준다\n",
        "c_model.add(Conv2D(filters = 32, # 사진에서 찾을 특성 개수\n",
        "                   kernel_size = (3,3), # 한번에 확인할 픽셀의 수\n",
        "                   input_shape = (64,64,3), # 입력 데이터의 크기\n",
        "                   padding = 'same', # 가장 자리를 0으로 채움 \n",
        "                  # same : 입력데이터의 크기와 동일하게 맞춰준다\n",
        "                   activation = 'relu'))\n",
        "#불필요한 부분 삭제\n",
        "c_model.add(MaxPooling2D(pool_size = (2,2),strides=2))\n",
        "\n",
        "c_model.add(Conv2D(filters = 32, # 사진에서 찾을 특성 개수\n",
        "                   kernel_size = (3,3), # 한번에 확인할 픽셀의 수\n",
        "                   input_shape = (64,64,3), # 입력 데이터의 크기\n",
        "                   padding = 'same', # 가장 자리를 0으로 채움(입력이미지크기=출력이미지크기)\n",
        "                  # same : 입력데이터의 크기와 동일하게 맞춰준다\n",
        "                   activation = 'relu'))\n",
        "\n",
        "c_model.add(MaxPooling2D(pool_size = (2,2),strides=2))\n",
        "\n",
        "# 1차원으로 데이터 축소\n",
        "c_model.add(Flatten())\n",
        "\n",
        "#은닉층\n",
        "c_model.add(Dense(units=128, activation = 'relu'))\n",
        "\n",
        "#출력층\n",
        "c_model.add(Dense(units=1, activation= 'sigmoid'))\n",
        "\n",
        "c_model.summary()"
      ],
      "metadata": {
        "colab": {
          "base_uri": "https://localhost:8080/"
        },
        "id": "jgRGzWPYW6fL",
        "outputId": "4b7c325e-8dd5-4e24-beb8-f0e3de9144af"
      },
      "execution_count": 8,
      "outputs": [
        {
          "output_type": "stream",
          "name": "stdout",
          "text": [
            "Model: \"sequential\"\n",
            "_________________________________________________________________\n",
            " Layer (type)                Output Shape              Param #   \n",
            "=================================================================\n",
            " conv2d (Conv2D)             (None, 64, 64, 32)        896       \n",
            "                                                                 \n",
            " max_pooling2d (MaxPooling2D  (None, 32, 32, 32)       0         \n",
            " )                                                               \n",
            "                                                                 \n",
            " conv2d_1 (Conv2D)           (None, 32, 32, 32)        9248      \n",
            "                                                                 \n",
            " max_pooling2d_1 (MaxPooling  (None, 16, 16, 32)       0         \n",
            " 2D)                                                             \n",
            "                                                                 \n",
            " flatten (Flatten)           (None, 8192)              0         \n",
            "                                                                 \n",
            " dense (Dense)               (None, 128)               1048704   \n",
            "                                                                 \n",
            " dense_1 (Dense)             (None, 1)                 129       \n",
            "                                                                 \n",
            "=================================================================\n",
            "Total params: 1,058,977\n",
            "Trainable params: 1,058,977\n",
            "Non-trainable params: 0\n",
            "_________________________________________________________________\n"
          ]
        }
      ]
    },
    {
      "cell_type": "code",
      "source": [
        "adam = keras.optimizers.Adam(lr=0.001, beta_1=0.9, beta_2=0.999, epsilon=None, decay=0.0, amsgrad=False)\n",
        "c_model.compile(loss='binary_crossentropy',\n",
        "                optimizer = adam,\n",
        "                metrics=['accuracy'])\n",
        "c_histroy = c_model.fit_generator(generator=train_generator,\n",
        "            steps_per_epoch=50,\n",
        "            epochs=20,\n",
        "            validation_data = val_generator,\n",
        "            validation_steps = 2)"
      ],
      "metadata": {
        "colab": {
          "base_uri": "https://localhost:8080/"
        },
        "id": "2RHQrW_dWuuz",
        "outputId": "1a76d4b4-6c22-443a-c674-99ff0d44054f"
      },
      "execution_count": 9,
      "outputs": [
        {
          "output_type": "stream",
          "name": "stderr",
          "text": [
            "/usr/local/lib/python3.7/dist-packages/keras/optimizer_v2/adam.py:105: UserWarning: The `lr` argument is deprecated, use `learning_rate` instead.\n",
            "  super(Adam, self).__init__(name, **kwargs)\n",
            "/usr/local/lib/python3.7/dist-packages/ipykernel_launcher.py:9: UserWarning: `Model.fit_generator` is deprecated and will be removed in a future version. Please use `Model.fit`, which supports generators.\n",
            "  if __name__ == '__main__':\n"
          ]
        },
        {
          "output_type": "stream",
          "name": "stdout",
          "text": [
            "Epoch 1/20\n",
            "50/50 [==============================] - 282s 6s/step - loss: 0.7093 - accuracy: 0.5044 - val_loss: 0.6912 - val_accuracy: 0.5781\n",
            "Epoch 2/20\n",
            "50/50 [==============================] - 271s 5s/step - loss: 0.6871 - accuracy: 0.5544 - val_loss: 0.6715 - val_accuracy: 0.6562\n",
            "Epoch 3/20\n",
            "50/50 [==============================] - 252s 5s/step - loss: 0.6716 - accuracy: 0.5881 - val_loss: 0.6483 - val_accuracy: 0.6094\n",
            "Epoch 4/20\n",
            "50/50 [==============================] - 236s 5s/step - loss: 0.6231 - accuracy: 0.6538 - val_loss: 0.5966 - val_accuracy: 0.7031\n",
            "Epoch 5/20\n",
            "50/50 [==============================] - 223s 4s/step - loss: 0.6068 - accuracy: 0.6606 - val_loss: 0.7072 - val_accuracy: 0.6250\n",
            "Epoch 6/20\n",
            "50/50 [==============================] - 205s 4s/step - loss: 0.5809 - accuracy: 0.6956 - val_loss: 0.5710 - val_accuracy: 0.7969\n",
            "Epoch 7/20\n",
            "50/50 [==============================] - 190s 4s/step - loss: 0.5823 - accuracy: 0.6975 - val_loss: 0.4903 - val_accuracy: 0.7656\n",
            "Epoch 8/20\n",
            "50/50 [==============================] - 171s 3s/step - loss: 0.5770 - accuracy: 0.7018 - val_loss: 0.5919 - val_accuracy: 0.7031\n",
            "Epoch 9/20\n",
            "50/50 [==============================] - 173s 3s/step - loss: 0.5573 - accuracy: 0.7088 - val_loss: 0.5693 - val_accuracy: 0.7344\n",
            "Epoch 10/20\n",
            "50/50 [==============================] - 152s 3s/step - loss: 0.5528 - accuracy: 0.7125 - val_loss: 0.5542 - val_accuracy: 0.7188\n",
            "Epoch 11/20\n",
            "50/50 [==============================] - 144s 3s/step - loss: 0.5390 - accuracy: 0.7306 - val_loss: 0.5091 - val_accuracy: 0.7031\n",
            "Epoch 12/20\n",
            "50/50 [==============================] - 133s 3s/step - loss: 0.5287 - accuracy: 0.7350 - val_loss: 0.4592 - val_accuracy: 0.7969\n",
            "Epoch 13/20\n",
            "50/50 [==============================] - 125s 2s/step - loss: 0.5295 - accuracy: 0.7456 - val_loss: 0.4821 - val_accuracy: 0.7656\n",
            "Epoch 14/20\n",
            "50/50 [==============================] - 116s 2s/step - loss: 0.5331 - accuracy: 0.7468 - val_loss: 0.4675 - val_accuracy: 0.7500\n",
            "Epoch 15/20\n",
            "50/50 [==============================] - 119s 2s/step - loss: 0.5076 - accuracy: 0.7556 - val_loss: 0.5153 - val_accuracy: 0.7656\n",
            "Epoch 16/20\n",
            "50/50 [==============================] - 98s 2s/step - loss: 0.4791 - accuracy: 0.7763 - val_loss: 0.4128 - val_accuracy: 0.8438\n",
            "Epoch 17/20\n",
            "50/50 [==============================] - 99s 2s/step - loss: 0.4937 - accuracy: 0.7656 - val_loss: 0.5518 - val_accuracy: 0.6719\n",
            "Epoch 18/20\n",
            "50/50 [==============================] - 101s 2s/step - loss: 0.4974 - accuracy: 0.7556 - val_loss: 0.5067 - val_accuracy: 0.7656\n",
            "Epoch 19/20\n",
            "50/50 [==============================] - 90s 2s/step - loss: 0.4823 - accuracy: 0.7638 - val_loss: 0.5318 - val_accuracy: 0.7500\n",
            "Epoch 20/20\n",
            "50/50 [==============================] - 89s 2s/step - loss: 0.4598 - accuracy: 0.7844 - val_loss: 0.3621 - val_accuracy: 0.8594\n"
          ]
        }
      ]
    },
    {
      "cell_type": "code",
      "source": [
        "import matplotlib.pyplot as plt\n",
        "acc = c_histroy.history['accuracy']\n",
        "val_acc = c_histroy.history['val_accuracy']\n",
        "\n",
        "epoch = range(1, len(acc)+1) #정확도의 개수\n",
        "\n",
        "plt.plot(epoch, acc, c='red', label = 'Train acc') # 훈련 데이터 정확도\n",
        "plt.plot(epoch, val_acc, c= 'blue', label = 'val acc') # 검증 데이터 정확도\n",
        "plt.legend() #범례\n",
        "plt.plot()"
      ],
      "metadata": {
        "colab": {
          "base_uri": "https://localhost:8080/",
          "height": 284
        },
        "id": "uUcEwlWDlN-p",
        "outputId": "9030f2e7-3905-4589-9efe-39af972781a6"
      },
      "execution_count": 10,
      "outputs": [
        {
          "output_type": "execute_result",
          "data": {
            "text/plain": [
              "[]"
            ]
          },
          "metadata": {},
          "execution_count": 10
        },
        {
          "output_type": "display_data",
          "data": {
            "text/plain": [
              "<Figure size 432x288 with 1 Axes>"
            ],
            "image/png": "[encoded data removed]"
          },
          "metadata": {
            "needs_background": "light"
          }
        }
      ]
    }
  ]
}