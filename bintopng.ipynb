{
 "cells": [
  {
   "cell_type": "code",
   "execution_count": 5,
   "id": "a013c6a0",
   "metadata": {},
   "outputs": [],
   "source": [
    "import os, sys\n",
    "from PIL import Image"
   ]
  },
  {
   "cell_type": "code",
   "execution_count": 6,
   "id": "e7604452",
   "metadata": {},
   "outputs": [
    {
     "name": "stdout",
     "output_type": "stream",
     "text": [
      "-f.png Greyscale image created\n"
     ]
    }
   ],
   "source": [
    "def getBinaryData(filename):\n",
    "    binaryValues = []\n",
    "    filename = 'C:/aiproject/dataset/malware/archive/testspbin'\n",
    "    file = open(filename, \"rb\")\n",
    "    data = file.read(1) \n",
    "    while data !=b\"\":\n",
    "        try:\n",
    "            binaryValues.append(ord(data))\n",
    "        except TypeError:\n",
    "            pass\n",
    "        data = file.read(1)\n",
    "        \n",
    "        \n",
    "    return binaryValues\n",
    "\n",
    "def createGreyScaleImageSpecificWith(dataSet,outputfilename,width=0):\n",
    "    if(width == 0):\n",
    "        size = len(dataSet)\n",
    "        \n",
    "        if(size < 10240):\n",
    "            width = 32\n",
    "        elif(10240*3 <= size <= 10240*6):\n",
    "            width = 64\n",
    "        elif(10240*6 <= size <= 10240*10):\n",
    "            width = 128\n",
    "        elif(10240*10 <= size <= 10240*20):\n",
    "            width = 256\n",
    "        elif(10240*20 <= size <= 10240*50):\n",
    "            width = 384\n",
    "        elif(10240*50 <= size <= 10240*100):\n",
    "            width = 512\n",
    "        elif(10240*3 <= size <= 10240*6):\n",
    "            width = 768\n",
    "        else:\n",
    "            width = 1024\n",
    "            \n",
    "            \n",
    "        height = int(size/width)+1\n",
    "        \n",
    "        image = Image.new('L', (width,height))\n",
    "        \n",
    "        image.putdata(dataSet)\n",
    "        \n",
    "        imagename = outputfilename+\".png\"\n",
    "        image.save(imagename)\n",
    "        image.show()\n",
    "        print(imagename+\" Greyscale image created\")\n",
    "        \n",
    "if __name__==\"__main__\":\n",
    "    file_full_path=sys.argv[1]\n",
    "    path=os.path.dirname(file_full_path)\n",
    "    base_name=os.path.splitext(os.path.basename(file_full_path))[0]\n",
    "    outputFilename = os.path.join(path,base_name)\n",
    "    \n",
    "    binaryData = getBinaryData(file_full_path)\n",
    "    createGreyScaleImageSpecificWith(binaryData, outputFilename)"
   ]
  },
  {
   "cell_type": "code",
   "execution_count": null,
   "id": "0c5187cb",
   "metadata": {},
   "outputs": [],
   "source": []
  }
 ],
 "metadata": {
  "kernelspec": {
   "display_name": "Python 3 (ipykernel)",
   "language": "python",
   "name": "python3"
  },
  "language_info": {
   "codemirror_mode": {
    "name": "ipython",
    "version": 3
   },
   "file_extension": ".py",
   "mimetype": "text/x-python",
   "name": "python",
   "nbconvert_exporter": "python",
   "pygments_lexer": "ipython3",
   "version": "3.9.7"
  }
 },
 "nbformat": 4,
 "nbformat_minor": 5
}
