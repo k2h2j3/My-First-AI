{
  "nbformat": 4,
  "nbformat_minor": 0,
  "metadata": {
    "colab": {
      "name": "testcatdog.ipynb",
      "provenance": [],
      "collapsed_sections": [],
      "mount_file_id": "1OGkzE7JfwMAq2L7sLT6oeVNgiiWpH3DI",
      "authorship_tag": "ABX9TyN8ZMFg6fFMY6bBh83X1VWM",
      "include_colab_link": true
    },
    "kernelspec": {
      "name": "python3",
      "display_name": "Python 3"
    },
    "language_info": {
      "name": "python"
    }
  },
  "cells": [
    {
      "cell_type": "markdown",
      "metadata": {
        "id": "view-in-github",
        "colab_type": "text"
      },
      "source": [
        "<a href=\"https://colab.research.google.com/github/k2h2j3/My-First-AI/blob/master/testcatdog.ipynb\" target=\"_parent\"><img src=\"https://colab.research.google.com/assets/colab-badge.svg\" alt=\"Open In Colab\"/></a>"
      ]
    },
    {
      "cell_type": "code",
      "execution_count": 24,
      "metadata": {
        "id": "oFkvdvGXM0lX"
      },
      "outputs": [],
      "source": [
        "import os\n",
        "from tensorflow import keras\n",
        "from tensorflow.keras.preprocessing.image import ImageDataGenerator\n",
        "\n",
        "from tensorflow.keras.models import Sequential\n",
        "from tensorflow.keras.layers import Dense, Dropout\n",
        "from tensorflow.keras.layers import Conv2D, MaxPooling2D, Flatten\n",
        "from matplotlib.cbook import flatten\n",
        "\n",
        "import numpy as np\n",
        "import tensorflow as tf\n"
      ]
    },
    {
      "cell_type": "code",
      "source": [
        "#데이터 셋\n",
        "train_dir = 'drive/MyDrive/Colab Notebooks/dogs_vs_cats_small/train'\n",
        "test_dir = 'drive/MyDrive/Colab Notebooks/dogs_vs_cats_small/test'\n",
        "validation_dir = 'drive/MyDrive/Colab Notebooks/dogs_vs_cats_small/validation'\n",
        "\n",
        "train_dogs_dir = 'drive/MyDrive/Colab Notebooks/dogs_vs_cats_small/train/dogs'\n",
        "train_cats_dir = 'drive/MyDrive/Colab Notebooks/dogs_vs_cats_small/train/cats'\n",
        "\n",
        "test_dogs_dir = 'drive/MyDrive/Colab Notebooks/dogs_vs_cats_small/test/dogs'\n",
        "test_cats_dir = 'drive/MyDrive/Colab Notebooks/dogs_vs_cats_small/test/cats'\n",
        "\n",
        "validation_dogs_dir = 'drive/MyDrive/Colab Notebooks/dogs_vs_cats_small/validation/dogs'\n",
        "validation_cats_dir = 'drive/MyDrive/Colab Notebooks/dogs_vs_cats_small/validation/cats'"
      ],
      "metadata": {
        "id": "Parb2Q-BwM_1"
      },
      "execution_count": 25,
      "outputs": []
    },
    {
      "cell_type": "code",
      "source": [
        "#스케일링\n",
        "train_gen = ImageDataGenerator( rescale = 1./255)\n",
        "val_gen = ImageDataGenerator( rescale = 1./255)\n",
        "test_gen = ImageDataGenerator( rescale = 1./255)"
      ],
      "metadata": {
        "id": "0MyW0fmWwPLL"
      },
      "execution_count": 26,
      "outputs": []
    },
    {
      "cell_type": "code",
      "source": [
        "# flow_from_directory: 폴더에서 이미지 가져오기\n",
        "# 폴더명, 이미지 크기, 한번에 변환 할 이미지 수, 라벨링 모드\n",
        "# 이진분류 = binary, 다중 분류 = categorical \n",
        "# 라벨 번호는 0부터 시작(cat은 0, dog는 1)\n",
        "train_generator = train_gen.flow_from_directory(train_dir,\n",
        "                              target_size =(64,64),\n",
        "                              batch_size=32,\n",
        "                              class_mode = 'binary')\n",
        "val_generator = val_gen.flow_from_directory( validation_dir,\n",
        "                            target_size = (64,64),\n",
        "                            batch_size=32,\n",
        "                            class_mode =  'binary')\n",
        "test_generator = test_gen.flow_from_directory( test_dir,\n",
        "                            target_size = (64,64),\n",
        "                            batch_size=32,\n",
        "                            class_mode =  'binary')\n"
      ],
      "metadata": {
        "colab": {
          "base_uri": "https://localhost:8080/"
        },
        "id": "mmD2uD-IwPSc",
        "outputId": "b2f3d87e-ecd1-42af-e9cc-9be14c2dfcf4"
      },
      "execution_count": 27,
      "outputs": [
        {
          "output_type": "stream",
          "name": "stdout",
          "text": [
            "Found 2000 images belonging to 2 classes.\n",
            "Found 1000 images belonging to 2 classes.\n",
            "Found 22 images belonging to 2 classes.\n"
          ]
        }
      ]
    },
    {
      "cell_type": "code",
      "source": [
        "seed = 0\n",
        "np.random.seed(seed)\n",
        "tf.random.set_seed(seed)\n"
      ],
      "metadata": {
        "id": "fW7i0tCtwPlL"
      },
      "execution_count": 28,
      "outputs": []
    },
    {
      "cell_type": "code",
      "source": [
        "from matplotlib.cbook import flatten\n",
        "c_model = Sequential()\n",
        "\n",
        "# 입력층(CNN)\n",
        "# 특징을 도드라지게 해준다\n",
        "c_model.add(Conv2D(filters = 32, # 사진에서 찾을 특성 개수\n",
        "                   kernel_size = (3,3), # 한번에 확인할 픽셀의 수\n",
        "                   input_shape = (64,64,3), # 입력 데이터의 크기\n",
        "                   padding = 'same', # 가장 자리를 0으로 채움 \n",
        "                  # same : 입력데이터의 크기와 동일하게 맞춰준다\n",
        "                   activation = 'relu'))\n",
        "#불필요한 부분 삭제\n",
        "c_model.add(MaxPooling2D(pool_size = (2,2),strides=2))\n",
        "\n",
        "c_model.add(Conv2D(filters = 32, # 사진에서 찾을 특성 개수\n",
        "                   kernel_size = (3,3), # 한번에 확인할 픽셀의 수\n",
        "                   input_shape = (64,64,3), # 입력 데이터의 크기\n",
        "                   padding = 'same', # 가장 자리를 0으로 채움(입력이미지크기=출력이미지크기)\n",
        "                  # same : 입력데이터의 크기와 동일하게 맞춰준다\n",
        "                   activation = 'relu'))\n",
        "\n",
        "c_model.add(MaxPooling2D(pool_size = (2,2),strides=2))\n",
        "\n",
        "# 1차원으로 데이터 축소\n",
        "c_model.add(Flatten())\n",
        "\n",
        "#은닉층\n",
        "c_model.add(Dense(units=128, activation = 'relu'))\n",
        "\n",
        "#출력층\n",
        "c_model.add(Dense(units=1, activation= 'sigmoid'))\n",
        "\n",
        "c_model.summary()"
      ],
      "metadata": {
        "colab": {
          "base_uri": "https://localhost:8080/"
        },
        "id": "vhmmOCcmwPnj",
        "outputId": "c1fba1f4-c8a1-4e82-8fa6-3a9cc9f253d5"
      },
      "execution_count": 29,
      "outputs": [
        {
          "output_type": "stream",
          "name": "stdout",
          "text": [
            "Model: \"sequential_15\"\n",
            "_________________________________________________________________\n",
            " Layer (type)                Output Shape              Param #   \n",
            "=================================================================\n",
            " conv2d_39 (Conv2D)          (None, 64, 64, 32)        896       \n",
            "                                                                 \n",
            " max_pooling2d_39 (MaxPoolin  (None, 32, 32, 32)       0         \n",
            " g2D)                                                            \n",
            "                                                                 \n",
            " conv2d_40 (Conv2D)          (None, 32, 32, 32)        9248      \n",
            "                                                                 \n",
            " max_pooling2d_40 (MaxPoolin  (None, 16, 16, 32)       0         \n",
            " g2D)                                                            \n",
            "                                                                 \n",
            " flatten_15 (Flatten)        (None, 8192)              0         \n",
            "                                                                 \n",
            " dense_30 (Dense)            (None, 128)               1048704   \n",
            "                                                                 \n",
            " dense_31 (Dense)            (None, 1)                 129       \n",
            "                                                                 \n",
            "=================================================================\n",
            "Total params: 1,058,977\n",
            "Trainable params: 1,058,977\n",
            "Non-trainable params: 0\n",
            "_________________________________________________________________\n"
          ]
        }
      ]
    },
    {
      "cell_type": "code",
      "source": [
        "adam = keras.optimizers.Adam(lr=0.001, beta_1=0.9, beta_2=0.999, epsilon=None, decay=0.0, amsgrad=False)\n",
        "c_model.compile(loss='binary_crossentropy',\n",
        "                optimizer = adam,\n",
        "                metrics=['accuracy'])\n",
        "c_histroy = c_model.fit_generator(generator=train_generator,\n",
        "            steps_per_epoch=50,\n",
        "            epochs=20,\n",
        "            validation_data = val_generator,\n",
        "            validation_steps = 2)"
      ],
      "metadata": {
        "colab": {
          "base_uri": "https://localhost:8080/"
        },
        "id": "v5Ac1yPxwdMW",
        "outputId": "709758e3-9cc5-4f24-fbd6-4497d51ae12e"
      },
      "execution_count": 31,
      "outputs": [
        {
          "output_type": "stream",
          "name": "stdout",
          "text": [
            "Epoch 1/20\n"
          ]
        },
        {
          "output_type": "stream",
          "name": "stderr",
          "text": [
            "/usr/local/lib/python3.7/dist-packages/keras/optimizer_v2/adam.py:105: UserWarning: The `lr` argument is deprecated, use `learning_rate` instead.\n",
            "  super(Adam, self).__init__(name, **kwargs)\n",
            "/usr/local/lib/python3.7/dist-packages/ipykernel_launcher.py:9: UserWarning: `Model.fit_generator` is deprecated and will be removed in a future version. Please use `Model.fit`, which supports generators.\n",
            "  if __name__ == '__main__':\n"
          ]
        },
        {
          "output_type": "stream",
          "name": "stdout",
          "text": [
            "50/50 [==============================] - 25s 496ms/step - loss: 0.6677 - accuracy: 0.5770 - val_loss: 0.6892 - val_accuracy: 0.5312\n",
            "Epoch 2/20\n",
            "50/50 [==============================] - 24s 474ms/step - loss: 0.6175 - accuracy: 0.6566 - val_loss: 0.6573 - val_accuracy: 0.6562\n",
            "Epoch 3/20\n",
            "50/50 [==============================] - 23s 469ms/step - loss: 0.5656 - accuracy: 0.7197 - val_loss: 0.6841 - val_accuracy: 0.6250\n",
            "Epoch 4/20\n",
            "50/50 [==============================] - 20s 395ms/step - loss: 0.4947 - accuracy: 0.7513 - val_loss: 0.6938 - val_accuracy: 0.6094\n",
            "Epoch 5/20\n",
            "50/50 [==============================] - 22s 437ms/step - loss: 0.4565 - accuracy: 0.7936 - val_loss: 0.6451 - val_accuracy: 0.6250\n",
            "Epoch 6/20\n",
            "50/50 [==============================] - 20s 401ms/step - loss: 0.3968 - accuracy: 0.8207 - val_loss: 0.6399 - val_accuracy: 0.7031\n",
            "Epoch 7/20\n",
            "50/50 [==============================] - 20s 407ms/step - loss: 0.3923 - accuracy: 0.8302 - val_loss: 0.7174 - val_accuracy: 0.7031\n",
            "Epoch 8/20\n",
            "50/50 [==============================] - 20s 401ms/step - loss: 0.3216 - accuracy: 0.8636 - val_loss: 0.6139 - val_accuracy: 0.7500\n",
            "Epoch 9/20\n",
            "50/50 [==============================] - 19s 387ms/step - loss: 0.2646 - accuracy: 0.8952 - val_loss: 0.5786 - val_accuracy: 0.7188\n",
            "Epoch 10/20\n",
            "50/50 [==============================] - 17s 347ms/step - loss: 0.2311 - accuracy: 0.9085 - val_loss: 0.7312 - val_accuracy: 0.6406\n",
            "Epoch 11/20\n",
            "50/50 [==============================] - 17s 346ms/step - loss: 0.2053 - accuracy: 0.9160 - val_loss: 0.9461 - val_accuracy: 0.6719\n",
            "Epoch 12/20\n",
            "50/50 [==============================] - 17s 330ms/step - loss: 0.1684 - accuracy: 0.9400 - val_loss: 1.1570 - val_accuracy: 0.6875\n",
            "Epoch 13/20\n",
            "50/50 [==============================] - 15s 309ms/step - loss: 0.1636 - accuracy: 0.9388 - val_loss: 0.7064 - val_accuracy: 0.7656\n",
            "Epoch 14/20\n",
            "50/50 [==============================] - 19s 377ms/step - loss: 0.1322 - accuracy: 0.9545 - val_loss: 1.0912 - val_accuracy: 0.5938\n",
            "Epoch 15/20\n",
            "50/50 [==============================] - 15s 304ms/step - loss: 0.1066 - accuracy: 0.9697 - val_loss: 1.1905 - val_accuracy: 0.6250\n",
            "Epoch 16/20\n",
            "50/50 [==============================] - 15s 300ms/step - loss: 0.0715 - accuracy: 0.9830 - val_loss: 1.1508 - val_accuracy: 0.6562\n",
            "Epoch 17/20\n",
            "50/50 [==============================] - 15s 307ms/step - loss: 0.0670 - accuracy: 0.9794 - val_loss: 0.8582 - val_accuracy: 0.7656\n",
            "Epoch 18/20\n",
            "50/50 [==============================] - 16s 320ms/step - loss: 0.0408 - accuracy: 0.9919 - val_loss: 0.9547 - val_accuracy: 0.7656\n",
            "Epoch 19/20\n",
            "50/50 [==============================] - 14s 282ms/step - loss: 0.0254 - accuracy: 0.9981 - val_loss: 2.0356 - val_accuracy: 0.6094\n",
            "Epoch 20/20\n",
            "50/50 [==============================] - 16s 322ms/step - loss: 0.0309 - accuracy: 0.9949 - val_loss: 0.7762 - val_accuracy: 0.7812\n"
          ]
        }
      ]
    },
    {
      "cell_type": "markdown",
      "source": [
        ""
      ],
      "metadata": {
        "id": "mS1aCveGVa9B"
      }
    },
    {
      "cell_type": "code",
      "source": [
        "import matplotlib.pyplot as plt\n",
        "acc = c_histroy.history['accuracy']\n",
        "val_acc = c_histroy.history['val_accuracy']\n",
        "\n",
        "epoch = range(1, len(acc)+1) #정확도의 개수\n",
        "\n",
        "plt.plot(epoch, acc, c='red', label = 'Train acc') # 훈련 데이터 정확도\n",
        "plt.plot(epoch, val_acc, c= 'blue', label = 'val acc') # 검증 데이터 정확도\n",
        "plt.legend() #범례\n",
        "plt.plot() "
      ],
      "metadata": {
        "colab": {
          "base_uri": "https://localhost:8080/",
          "height": 284
        },
        "id": "5nod0XqcN7Kw",
        "outputId": "eead8cbb-8be8-4034-c22b-71fef01ddb98"
      },
      "execution_count": 32,
      "outputs": [
        {
          "output_type": "execute_result",
          "data": {
            "text/plain": [
              "[]"
            ]
          },
          "metadata": {},
          "execution_count": 32
        },
        {
          "output_type": "display_data",
          "data": {
            "text/plain": [
              "<Figure size 432x288 with 1 Axes>"
            ],
            "image/png": "[encoded data removed]"
          },
          "metadata": {
            "needs_background": "light"
          }
        }
      ]
    }
  ]
}